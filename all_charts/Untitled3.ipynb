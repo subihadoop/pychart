{
 "cells": [
  {
   "cell_type": "code",
   "execution_count": 16,
   "metadata": {},
   "outputs": [
    {
     "ename": "ImportError",
     "evalue": "cannot import name 'app'",
     "output_type": "error",
     "traceback": [
      "\u001b[0;31m---------------------------------------------------------------------------\u001b[0m",
      "\u001b[0;31mImportError\u001b[0m                               Traceback (most recent call last)",
      "\u001b[0;32m<ipython-input-16-0337d3f462dc>\u001b[0m in \u001b[0;36m<module>\u001b[0;34m()\u001b[0m\n\u001b[0;32m----> 1\u001b[0;31m \u001b[0;32mfrom\u001b[0m \u001b[0mapp\u001b[0m \u001b[0;32mimport\u001b[0m \u001b[0mapp\u001b[0m\u001b[0;34m\u001b[0m\u001b[0m\n\u001b[0m\u001b[1;32m      2\u001b[0m \u001b[0;32mfrom\u001b[0m \u001b[0mflaskext\u001b[0m\u001b[0;34m.\u001b[0m\u001b[0mmysql\u001b[0m \u001b[0;32mimport\u001b[0m \u001b[0mMySQL\u001b[0m\u001b[0;34m\u001b[0m\u001b[0m\n\u001b[1;32m      3\u001b[0m \u001b[0;32mimport\u001b[0m \u001b[0mio\u001b[0m\u001b[0;34m\u001b[0m\u001b[0m\n\u001b[1;32m      4\u001b[0m \u001b[0;32mimport\u001b[0m \u001b[0mxlwt\u001b[0m\u001b[0;34m\u001b[0m\u001b[0m\n\u001b[1;32m      5\u001b[0m \u001b[0;32mimport\u001b[0m \u001b[0mpymysql\u001b[0m\u001b[0;34m\u001b[0m\u001b[0m\n",
      "\u001b[0;31mImportError\u001b[0m: cannot import name 'app'"
     ]
    }
   ],
   "source": [
    "from app import app\n",
    "from flaskext.mysql import MySQL\n",
    "import io\n",
    "import xlwt\n",
    "import pymysql\n",
    "#from app import app\n",
    "from db import mysql\n",
    "from flask import Flask, Response, render_template\n",
    "\n",
    "\n",
    "mysql = MySQL()\n",
    " \n",
    "# MySQL configurations\n",
    "app.config['MYSQL_DATABASE_USER'] = 'root'\n",
    "app.config['MYSQL_DATABASE_PASSWORD'] = 'root'\n",
    "app.config['MYSQL_DATABASE_DB'] = 'roytuts'\n",
    "app.config['MYSQL_DATABASE_HOST'] = 'localhost'\n",
    "mysql.init_app(app)\n",
    "\n",
    "\n",
    "@app.route('/')\n",
    "def upload_form():\n",
    "    return render_template('download.html')\n",
    "\n",
    "@app.route('/download/report/excel')\n",
    "def download_report():\n",
    "    conn = None\n",
    "    cursor = None\n",
    "    try:\n",
    "        conn = mysql.connect()\n",
    "        cursor = conn.cursor(pymysql.cursors.DictCursor)\n",
    "\n",
    "        cursor.execute(\"SELECT emp_id, emp_first_name, emp_last_name, emp_designation FROM employee\")\n",
    "        result = cursor.fetchall()\n",
    "\n",
    "        #output in bytes\n",
    "        output = io.BytesIO()\n",
    "            #create WorkBook object\n",
    "        workbook = xlwt.Workbook()\n",
    "        #add a sheet\n",
    "        sh = workbook.add_sheet('Employee Report')\n",
    "        \n",
    "        #add headers\n",
    "        sh.write(0, 0, 'Emp Id')\n",
    "        sh.write(0, 1, 'Emp First Name')\n",
    "        sh.write(0, 2, 'Emp Last Name')\n",
    "        sh.write(0, 3, 'Designation')\n",
    "        \n",
    "        idx = 0\n",
    "        \n",
    "        for row in result:\n",
    "            sh.write(idx+1, 0, str(row['emp_id']))\n",
    "            sh.write(idx+1, 1, row['emp_first_name'])\n",
    "            sh.write(idx+1, 2, row['emp_last_name'])\n",
    "            sh.write(idx+1, 3, row['emp_designation'])\n",
    "            idx += 1\n",
    "\n",
    "        workbook.save(output)\n",
    "        output.seek(0)\n",
    "        \n",
    "        return Response(output, mimetype=\"application/ms-excel\", \n",
    "                        headers={\"Content-Disposition\":\"attachment;filename=employee_report.xls\"})\n",
    "    except Exception as e:\n",
    "        print('No')\n",
    "    finally:\n",
    "        cursor.close() \n",
    "        conn.close()\n",
    "if __name__ == \"__main__\":\n",
    "    app.run()"
   ]
  },
  {
   "cell_type": "code",
   "execution_count": 17,
   "metadata": {},
   "outputs": [
    {
     "ename": "ImportError",
     "evalue": "cannot import name 'app'",
     "output_type": "error",
     "traceback": [
      "\u001b[0;31m---------------------------------------------------------------------------\u001b[0m",
      "\u001b[0;31mImportError\u001b[0m                               Traceback (most recent call last)",
      "\u001b[0;32m<ipython-input-17-3f662bf3599f>\u001b[0m in \u001b[0;36m<module>\u001b[0;34m()\u001b[0m\n\u001b[0;32m----> 1\u001b[0;31m \u001b[0;32mfrom\u001b[0m \u001b[0mapp\u001b[0m \u001b[0;32mimport\u001b[0m \u001b[0mapp\u001b[0m\u001b[0;34m\u001b[0m\u001b[0m\n\u001b[0m\u001b[1;32m      2\u001b[0m \u001b[0;32mfrom\u001b[0m \u001b[0mflaskext\u001b[0m\u001b[0;34m.\u001b[0m\u001b[0mmysql\u001b[0m \u001b[0;32mimport\u001b[0m \u001b[0mMySQL\u001b[0m\u001b[0;34m\u001b[0m\u001b[0m\n\u001b[1;32m      3\u001b[0m \u001b[0;34m\u001b[0m\u001b[0m\n\u001b[1;32m      4\u001b[0m \u001b[0;32mfrom\u001b[0m \u001b[0mflask\u001b[0m \u001b[0;32mimport\u001b[0m \u001b[0mFlask\u001b[0m\u001b[0;34m\u001b[0m\u001b[0m\n\u001b[1;32m      5\u001b[0m \u001b[0;34m\u001b[0m\u001b[0m\n",
      "\u001b[0;31mImportError\u001b[0m: cannot import name 'app'"
     ]
    }
   ],
   "source": [
    "from app import app\n",
    "from flaskext.mysql import MySQL\n",
    "\n",
    "from flask import Flask\n",
    "\n",
    "app = Flask(__name__)\n",
    "\n",
    "mysql = MySQL()\n",
    " \n",
    "# MySQL configurations\n",
    "app.config['MYSQL_DATABASE_USER'] = 'root'\n",
    "app.config['MYSQL_DATABASE_PASSWORD'] = 'root'\n",
    "app.config['MYSQL_DATABASE_DB'] = 'roytuts'\n",
    "app.config['MYSQL_DATABASE_HOST'] = 'localhost'\n",
    "mysql.init_app(app)\n"
   ]
  },
  {
   "cell_type": "code",
   "execution_count": null,
   "metadata": {
    "collapsed": true
   },
   "outputs": [],
   "source": []
  }
 ],
 "metadata": {
  "kernelspec": {
   "display_name": "Python 3",
   "language": "python",
   "name": "python3"
  },
  "language_info": {
   "codemirror_mode": {
    "name": "ipython",
    "version": 3
   },
   "file_extension": ".py",
   "mimetype": "text/x-python",
   "name": "python",
   "nbconvert_exporter": "python",
   "pygments_lexer": "ipython3",
   "version": "3.6.3"
  }
 },
 "nbformat": 4,
 "nbformat_minor": 2
}
