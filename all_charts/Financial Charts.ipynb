{
 "cells": [
  {
   "cell_type": "code",
   "execution_count": null,
   "metadata": {},
   "outputs": [],
   "source": [
    "import plotly.express as px\n",
    "\n",
    "import pandas as pd\n",
    "df = pd.read_csv('/home/subir/anaconda3/notebook/data_for_analysis/finance-charts-apple.csv')\n",
    "\n",
    "fig = px.line(df, x='Date', y='AAPL.High')\n",
    "fig.show()"
   ]
  },
  {
   "cell_type": "code",
   "execution_count": null,
   "metadata": {
    "collapsed": true
   },
   "outputs": [],
   "source": [
    "import plotly.graph_objects as go\n",
    "\n",
    "import pandas as pd\n",
    "df = pd.read_csv('/home/subir/anaconda3/notebook/data_for_analysis/finance-charts-apple.csv')\n",
    "\n",
    "fig = go.Figure([go.Scatter(x=df['Date'], y=df['AAPL.High'])])\n",
    "fig.show()"
   ]
  },
  {
   "cell_type": "code",
   "execution_count": null,
   "metadata": {
    "collapsed": true
   },
   "outputs": [],
   "source": [
    "import plotly.graph_objects as go\n",
    "import datetime\n",
    "\n",
    "x = [datetime.datetime(year=2013, month=10, day=4),\n",
    "     datetime.datetime(year=2013, month=11, day=5),\n",
    "     datetime.datetime(year=2013, month=12, day=6)]\n",
    "\n",
    "fig = go.Figure(data=[go.Scatter(x=x, y=[1, 3, 6])])\n",
    "# Use datetime objects to set xaxis range\n",
    "fig.update_layout(xaxis_range=[datetime.datetime(2013, 10, 17),\n",
    "                               datetime.datetime(2013, 11, 20)])\n",
    "fig.show()"
   ]
  },
  {
   "cell_type": "code",
   "execution_count": null,
   "metadata": {
    "collapsed": true
   },
   "outputs": [],
   "source": [
    "import plotly.graph_objects as go\n",
    "import pandas as pd\n",
    "\n",
    "df = pd.read_csv(\"/home/subir/anaconda3/notebook/data_for_analysis/finance-charts-apple.csv)\n",
    "\n",
    "fig = go.Figure()\n",
    "fig.add_trace(go.Scatter(\n",
    "                x=df.Date,\n",
    "                y=df['AAPL.High'],\n",
    "                name=\"AAPL High\",\n",
    "                line_color='deepskyblue',\n",
    "                opacity=0.8))\n",
    "\n",
    "fig.add_trace(go.Scatter(\n",
    "                x=df.Date,\n",
    "                y=df['AAPL.Low'],\n",
    "                name=\"AAPL Low\",\n",
    "                line_color='dimgray',\n",
    "                opacity=0.8))\n",
    "\n",
    "# Use date string to set xaxis range\n",
    "fig.update_layout(xaxis_range=['2016-07-01','2016-12-31'],\n",
    "                  title_text=\"Manually Set Date Range\")\n",
    "fig.show()"
   ]
  },
  {
   "cell_type": "code",
   "execution_count": null,
   "metadata": {},
   "outputs": [],
   "source": [
    "import plotly.graph_objects as go\n",
    "import pandas as pd\n",
    "\n",
    "df = pd.read_csv(\"/home/subir/anaconda3/notebook/data_for_analysis/finance-charts-apple.csv\")\n",
    "\n",
    "fig = go.Figure()\n",
    "fig.add_trace(go.Scatter(x=df.Date, y=df['AAPL.High'], name=\"AAPL High\",\n",
    "                         line_color='deepskyblue'))\n",
    "\n",
    "fig.add_trace(go.Scatter(x=df.Date, y=df['AAPL.Low'], name=\"AAPL Low\",\n",
    "                         line_color='dimgray'))\n",
    "\n",
    "fig.update_layout(title_text='Time Series with Rangeslider',\n",
    "                  xaxis_rangeslider_visible=True)\n",
    "fig.show()"
   ]
  },
  {
   "cell_type": "code",
   "execution_count": null,
   "metadata": {
    "collapsed": true
   },
   "outputs": [],
   "source": [
    "import plotly.graph_objects as go\n",
    "\n",
    "import pandas as pd\n",
    "from datetime import datetime\n",
    "\n",
    "df = pd.read_csv('/home/subir/anaconda3/notebook/data_for_analysis/finance-charts-apple.csv')\n",
    "\n",
    "fig = go.Figure(data=[go.Candlestick(x=df['Date'],\n",
    "                open=df['AAPL.Open'],\n",
    "                high=df['AAPL.High'],\n",
    "                low=df['AAPL.Low'],\n",
    "                close=df['AAPL.Close'])])\n",
    "\n",
    "fig.show()"
   ]
  },
  {
   "cell_type": "code",
   "execution_count": null,
   "metadata": {
    "collapsed": true
   },
   "outputs": [],
   "source": [
    "import plotly.graph_objects as go\n",
    "import pandas as pd\n",
    "\n",
    "df = pd.read_csv('/home/subir/anaconda3/notebook/data_for_analysis/finance-charts-apple.csv')\n",
    "\n",
    "fig = go.Figure(data=[go.Candlestick(x=df['Date'],\n",
    "                open=df['AAPL.Open'], high=df['AAPL.High'],\n",
    "                low=df['AAPL.Low'], close=df['AAPL.Close'])\n",
    "                     ])\n",
    "\n",
    "fig.update_layout(xaxis_rangeslider_visible=False)\n",
    "fig.show()"
   ]
  },
  {
   "cell_type": "code",
   "execution_count": null,
   "metadata": {
    "collapsed": true
   },
   "outputs": [],
   "source": [
    "import plotly.graph_objects as go\n",
    "import pandas as pd\n",
    "\n",
    "\n",
    "df = pd.read_csv('/home/subir/anaconda3/notebook/data_for_analysis/finance-charts-apple.csv')\n",
    "\n",
    "fig = go.Figure(data=[go.Candlestick(x=df['Date'],\n",
    "                open=df['AAPL.Open'], high=df['AAPL.High'],\n",
    "                low=df['AAPL.Low'], close=df['AAPL.Close'])\n",
    "                      ])\n",
    "\n",
    "fig.update_layout(\n",
    "    title='The Great Recession',\n",
    "    yaxis_title='AAPL Stock',\n",
    "    shapes = [dict(\n",
    "        x0='2016-12-09', x1='2016-12-09', y0=0, y1=1, xref='x', yref='paper',\n",
    "        line_width=2)],\n",
    "    annotations=[dict(\n",
    "        x='2016-12-09', y=0.05, xref='x', yref='paper',\n",
    "        showarrow=False, xanchor='left', text='Increase Period Begins')]\n",
    ")\n",
    "\n",
    "fig.show()"
   ]
  },
  {
   "cell_type": "code",
   "execution_count": null,
   "metadata": {
    "collapsed": true
   },
   "outputs": [],
   "source": [
    "import plotly.graph_objects as go\n",
    "import pandas as pd\n",
    "\n",
    "df = pd.read_csv('/home/subir/anaconda3/notebook/data_for_analysis/finance-charts-apple.csv')\n",
    "\n",
    "fig = go.Figure(data=[go.Candlestick(\n",
    "    x=df['Date'],\n",
    "    open=df['AAPL.Open'], high=df['AAPL.High'],\n",
    "    low=df['AAPL.Low'], close=df['AAPL.Close'],\n",
    "    increasing_line_color= 'cyan', decreasing_line_color= 'gray'\n",
    ")])\n",
    "\n",
    "fig.show()"
   ]
  },
  {
   "cell_type": "code",
   "execution_count": null,
   "metadata": {
    "collapsed": true
   },
   "outputs": [],
   "source": [
    "import plotly.graph_objects as go\n",
    "from datetime import datetime\n",
    "\n",
    "open_data = [33.0, 33.3, 33.5, 33.0, 34.1]\n",
    "high_data = [33.1, 33.3, 33.6, 33.2, 34.8]\n",
    "low_data = [32.7, 32.7, 32.8, 32.6, 32.8]\n",
    "close_data = [33.0, 32.9, 33.3, 33.1, 33.1]\n",
    "dates = [datetime(year=2013, month=10, day=10),\n",
    "         datetime(year=2013, month=11, day=10),\n",
    "         datetime(year=2013, month=12, day=10),\n",
    "         datetime(year=2014, month=1, day=10),\n",
    "         datetime(year=2014, month=2, day=10)]\n",
    "\n",
    "fig = go.Figure(data=[go.Candlestick(x=dates,\n",
    "                       open=open_data, high=high_data,\n",
    "                       low=low_data, close=close_data)])\n",
    "\n",
    "fig.show()"
   ]
  },
  {
   "cell_type": "code",
   "execution_count": null,
   "metadata": {
    "collapsed": true
   },
   "outputs": [],
   "source": [
    "import plotly.graph_objects as go\n",
    "\n",
    "fig = go.Figure(go.Waterfall(\n",
    "    name = \"20\", orientation = \"v\",\n",
    "    measure = [\"relative\", \"relative\", \"total\", \"relative\", \"relative\", \"total\"],\n",
    "    x = [\"Sales\", \"Consulting\", \"Net revenue\", \"Purchases\", \"Other expenses\", \"Profit before tax\"],\n",
    "    textposition = \"outside\",\n",
    "    text = [\"+60\", \"+80\", \"\", \"-40\", \"-20\", \"Total\"],\n",
    "    y = [60, 80, 0, -40, -20, 0],\n",
    "    connector = {\"line\":{\"color\":\"rgb(63, 63, 63)\"}},\n",
    "))\n",
    "\n",
    "fig.update_layout(\n",
    "        title = \"Profit and loss statement 2018\",\n",
    "        showlegend = True\n",
    ")\n",
    "\n",
    "fig.show()"
   ]
  },
  {
   "cell_type": "code",
   "execution_count": null,
   "metadata": {
    "collapsed": true
   },
   "outputs": [],
   "source": [
    "import plotly.graph_objects as go\n",
    "\n",
    "fig = go.Figure()\n",
    "\n",
    "fig.add_trace(go.Waterfall(\n",
    "    x = [[\"2016\", \"2017\", \"2017\", \"2017\", \"2017\", \"2018\", \"2018\", \"2018\", \"2018\"],\n",
    "        [\"initial\", \"q1\", \"q2\", \"q3\", \"total\", \"q1\", \"q2\", \"q3\", \"total\"]],\n",
    "    measure = [\"absolute\", \"relative\", \"relative\", \"relative\", \"total\", \"relative\", \"relative\", \"relative\", \"total\"],\n",
    "    y = [1, 2, 3, -1, None, 1, 2, -4, None],\n",
    "    base = 1000\n",
    "))\n",
    "\n",
    "fig.add_trace(go.Waterfall(\n",
    "    x = [[\"2016\", \"2017\", \"2017\", \"2017\", \"2017\", \"2018\", \"2018\", \"2018\", \"2018\"],\n",
    "        [\"initial\", \"q1\", \"q2\", \"q3\", \"total\", \"q1\", \"q2\", \"q3\", \"total\"]],\n",
    "    measure = [\"absolute\", \"relative\", \"relative\", \"relative\", \"total\", \"relative\", \"relative\", \"relative\", \"total\"],\n",
    "    y = [1.1, 2.2, 3.3, -1.1, None, 1.1, 2.2, -4.4, None],\n",
    "    base = 1000\n",
    "))"
   ]
  },
  {
   "cell_type": "code",
   "execution_count": null,
   "metadata": {
    "collapsed": true
   },
   "outputs": [],
   "source": [
    "import plotly.graph_objects as go\n",
    "\n",
    "fig = go.Figure(go.Waterfall(\n",
    "    x = [[\"2016\", \"2017\", \"2017\", \"2017\", \"2017\", \"2018\", \"2018\", \"2018\", \"2018\"],\n",
    "       [\"initial\", \"q1\", \"q2\", \"q3\", \"total\", \"q1\", \"q2\", \"q3\", \"total\"]],\n",
    "    measure = [\"absolute\", \"relative\", \"relative\", \"relative\", \"total\", \"relative\", \"relative\", \"relative\", \"total\"],\n",
    "    y = [10, 20, 30, -10, None, 10, 20, -40, None], base = 300,\n",
    "    decreasing = {\"marker\":{\"color\":\"Maroon\", \"line\":{\"color\":\"red\", \"width\":2}}},\n",
    "    increasing = {\"marker\":{\"color\":\"Teal\"}},\n",
    "    totals = {\"marker\":{\"color\":\"deep sky blue\", \"line\":{\"color\":'blue', \"width\":3}}}\n",
    "))\n",
    "\n",
    "fig.update_layout(title = \"Profit and loss statement\", waterfallgap = 0.3)\n",
    "\n",
    "fig.show()"
   ]
  },
  {
   "cell_type": "code",
   "execution_count": null,
   "metadata": {
    "collapsed": true
   },
   "outputs": [],
   "source": [
    "import plotly.graph_objects as go\n",
    "\n",
    "fig = go.Figure(go.Waterfall(\n",
    "    name = \"2018\", orientation = \"h\", measure = [\"relative\", \"relative\", \"relative\", \"relative\", \"total\", \"relative\",\n",
    "                                              \"relative\", \"relative\", \"relative\", \"total\", \"relative\", \"relative\", \"total\", \"relative\", \"total\"],\n",
    "    y = [\"Sales\", \"Consulting\", \"Maintenance\", \"Other revenue\", \"Net revenue\", \"Purchases\", \"Material expenses\",\n",
    "       \"Personnel expenses\", \"Other expenses\", \"Operating profit\", \"Investment income\", \"Financial income\",\n",
    "       \"Profit before tax\", \"Income tax (15%)\", \"Profit after tax\"],\n",
    "    x = [375, 128, 78, 27, None, -327, -12, -78, -12, None, 32, 89, None, -45, None],\n",
    "    connector = {\"mode\":\"between\", \"line\":{\"width\":4, \"color\":\"rgb(0, 0, 0)\", \"dash\":\"solid\"}}\n",
    "))\n",
    "\n",
    "fig.update_layout(title = \"Profit and loss statement 2018\")\n",
    "\n",
    "fig.show()"
   ]
  },
  {
   "cell_type": "code",
   "execution_count": null,
   "metadata": {
    "collapsed": true
   },
   "outputs": [],
   "source": [
    "import plotly.express as px\n",
    "data = dict(\n",
    "    number=[39, 27.4, 20.6, 11, 2],\n",
    "    stage=[\"Website visit\", \"Downloads\", \"Potential customers\", \"Requested price\", \"invoice sent\"])\n",
    "fig = px.funnel(data, x='number', y='stage')\n",
    "fig.show()"
   ]
  },
  {
   "cell_type": "code",
   "execution_count": null,
   "metadata": {
    "collapsed": true
   },
   "outputs": [],
   "source": [
    "import plotly.express as px\n",
    "import pandas as pd\n",
    "stages = [\"Website visit\", \"Downloads\", \"Potential customers\", \"Requested price\", \"invoice sent\"]\n",
    "df_mtl = pd.DataFrame(dict(number=[39, 27.4, 20.6, 11, 3], stage=stages))\n",
    "df_mtl['office'] = 'Montreal'\n",
    "df_toronto = pd.DataFrame(dict(number=[52, 36, 18, 14, 5], stage=stages))\n",
    "df_toronto['office'] = 'Toronto'\n",
    "df = pd.concat([df_mtl, df_toronto], axis=0)\n",
    "fig = px.funnel(df, x='number', y='stage', color='office')\n",
    "fig.show()"
   ]
  },
  {
   "cell_type": "code",
   "execution_count": null,
   "metadata": {
    "collapsed": true
   },
   "outputs": [],
   "source": [
    "from plotly import graph_objects as go\n",
    "\n",
    "fig = go.Figure(go.Funnel(\n",
    "    y = [\"Website visit\", \"Downloads\", \"Potential customers\", \"Requested price\", \"invoice sent\"],\n",
    "    x = [39, 27.4, 20.6, 11, 2]))\n",
    "\n",
    "fig.show()"
   ]
  },
  {
   "cell_type": "code",
   "execution_count": null,
   "metadata": {
    "collapsed": true
   },
   "outputs": [],
   "source": [
    "from plotly import graph_objects as go\n",
    "\n",
    "fig = go.Figure(go.Funnel(\n",
    "    y = [\"Website visit\", \"Downloads\", \"Potential customers\", \"Requested price\", \"Finalized\"],\n",
    "    x = [39, 27.4, 20.6, 11, 2],\n",
    "    textposition = \"inside\",\n",
    "    textinfo = \"value+percent initial\",\n",
    "    opacity = 0.65, marker = {\"color\": [\"deepskyblue\", \"lightsalmon\", \"tan\", \"teal\", \"silver\"],\n",
    "    \"line\": {\"width\": [4, 2, 2, 3, 1, 1], \"color\": [\"wheat\", \"wheat\", \"blue\", \"wheat\", \"wheat\"]}},\n",
    "    connector = {\"line\": {\"color\": \"royalblue\", \"dash\": \"dot\", \"width\": 3}})\n",
    "    )\n",
    "\n",
    "fig.show()"
   ]
  },
  {
   "cell_type": "code",
   "execution_count": null,
   "metadata": {
    "collapsed": true
   },
   "outputs": [],
   "source": [
    "from plotly import graph_objects as go\n",
    "\n",
    "fig = go.Figure()\n",
    "\n",
    "fig.add_trace(go.Funnel(\n",
    "    name = 'Montreal',\n",
    "    y = [\"Website visit\", \"Downloads\", \"Potential customers\", \"Requested price\"],\n",
    "    x = [120, 60, 30, 20],\n",
    "    textinfo = \"value+percent initial\"))\n",
    "\n",
    "fig.add_trace(go.Funnel(\n",
    "    name = 'Toronto',\n",
    "    orientation = \"h\",\n",
    "    y = [\"Website visit\", \"Downloads\", \"Potential customers\", \"Requested price\", \"invoice sent\"],\n",
    "    x = [100, 60, 40, 30, 20],\n",
    "    textposition = \"inside\",\n",
    "    textinfo = \"value+percent previous\"))\n",
    "\n",
    "fig.add_trace(go.Funnel(\n",
    "    name = 'Vancouver',\n",
    "    orientation = \"h\",\n",
    "    y = [\"Website visit\", \"Downloads\", \"Potential customers\", \"Requested price\", \"invoice sent\", \"Finalized\"],\n",
    "    x = [90, 70, 50, 30, 10, 5],\n",
    "    textposition = \"outside\",\n",
    "    textinfo = \"value+percent total\"))\n",
    "\n",
    "fig.show()"
   ]
  },
  {
   "cell_type": "code",
   "execution_count": null,
   "metadata": {
    "collapsed": true
   },
   "outputs": [],
   "source": [
    "import plotly.express as px\n",
    "fig = px.funnel_area(names=[\"The 1st\",\"The 2nd\", \"The 3rd\", \"The 4th\", \"The 5th\"],\n",
    "                    values=[5, 4, 3, 2, 1])\n",
    "fig.show()"
   ]
  },
  {
   "cell_type": "code",
   "execution_count": null,
   "metadata": {
    "collapsed": true
   },
   "outputs": [],
   "source": [
    "from plotly import graph_objects as go\n",
    "\n",
    "fig = go.Figure(go.Funnelarea(\n",
    "    text = [\"The 1st\",\"The 2nd\", \"The 3rd\", \"The 4th\", \"The 5th\"],\n",
    "    values = [5, 4, 3, 2, 1]\n",
    "    ))\n",
    "fig.show()"
   ]
  },
  {
   "cell_type": "code",
   "execution_count": null,
   "metadata": {
    "collapsed": true
   },
   "outputs": [],
   "source": [
    "from plotly import graph_objects as go\n",
    "\n",
    "fig = go.Figure(go.Funnelarea(\n",
    "      values = [5, 4, 3, 2, 1], text = [\"The 1st\",\"The 2nd\", \"The 3rd\", \"The 4th\", \"The 5th\"],\n",
    "      marker = {\"colors\": [\"deepskyblue\", \"lightsalmon\", \"tan\", \"teal\", \"silver\"],\n",
    "                \"line\": {\"color\": [\"wheat\", \"wheat\", \"blue\", \"wheat\", \"wheat\"], \"width\": [0, 1, 5, 0, 4]}},\n",
    "      textfont = {\"family\": \"Old Standard TT, serif\", \"size\": 13, \"color\": \"black\"}, opacity = 0.65))\n",
    "fig.show()"
   ]
  },
  {
   "cell_type": "code",
   "execution_count": null,
   "metadata": {
    "collapsed": true
   },
   "outputs": [],
   "source": [
    "from plotly import graph_objects as go\n",
    "\n",
    "fig = go.Figure()\n",
    "\n",
    "fig.add_trace(go.Funnelarea(\n",
    "    scalegroup = \"first\", values = [500, 450, 340, 230, 220, 110], textinfo = \"value\",\n",
    "    title = {\"position\": \"top center\", \"text\": \"Sales for Sale Person A in U.S.\"},\n",
    "    domain = {\"x\": [0, 0.5], \"y\": [0, 0.5]}))\n",
    "\n",
    "fig.add_trace(go.Funnelarea(\n",
    "    scalegroup = \"first\", values = [600, 500, 400, 300, 200, 100], textinfo = \"value\",\n",
    "    title = {\"position\": \"top center\", \"text\": \"Sales of Sale Person B in Canada\"},\n",
    "    domain = {\"x\": [0, 0.5], \"y\": [0.55, 1]}))\n",
    "\n",
    "fig.add_trace(go.Funnelarea(\n",
    "    scalegroup = \"second\", values = [510, 480, 440, 330, 220, 100], textinfo = \"value\",\n",
    "    title = {\"position\": \"top left\", \"text\": \"Sales of Sale Person A in Canada\"},\n",
    "    domain = {\"x\": [0.55, 1], \"y\": [0, 0.5]}))\n",
    "\n",
    "fig.add_trace(go.Funnelarea(\n",
    "            scalegroup = \"second\", values = [360, 250, 240, 130, 120, 60],\n",
    "            textinfo = \"value\", title = {\"position\": \"top left\", \"text\": \"Sales of Sale Person B in U.S.\"},\n",
    "            domain = {\"x\": [0.55, 1], \"y\": [0.55, 1]}))\n",
    "\n",
    "fig.update_layout(\n",
    "            margin = {\"l\": 200, \"r\": 200}, shapes = [\n",
    "            {\"x0\": 0, \"x1\": 0.5, \"y0\": 0, \"y1\": 0.5},\n",
    "            {\"x0\": 0, \"x1\": 0.5, \"y0\": 0.55, \"y1\": 1},\n",
    "            {\"x0\": 0.55, \"x1\": 1, \"y0\": 0, \"y1\": 0.5},\n",
    "            {\"x0\": 0.55, \"x1\": 1, \"y0\": 0.55, \"y1\": 1}])\n",
    "\n",
    "fig.show()"
   ]
  }
 ],
 "metadata": {
  "kernelspec": {
   "display_name": "Python 3",
   "language": "python",
   "name": "python3"
  },
  "language_info": {
   "codemirror_mode": {
    "name": "ipython",
    "version": 3
   },
   "file_extension": ".py",
   "mimetype": "text/x-python",
   "name": "python",
   "nbconvert_exporter": "python",
   "pygments_lexer": "ipython3",
   "version": "3.6.3"
  }
 },
 "nbformat": 4,
 "nbformat_minor": 2
}
