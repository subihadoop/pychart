{
 "cells": [
  {
   "cell_type": "code",
   "execution_count": 2,
   "metadata": {},
   "outputs": [
    {
     "data": {
      "application/vnd.plotly.v1+json": {
       "config": {
        "plotlyServerURL": "https://plot.ly"
       },
       "data": [
        {
         "opacity": 0.5,
         "type": "mesh3d",
         "x": [
          51.72766336829432,
          51.06333902378109,
          32.1154335867422,
          16.08411858577689,
          -5.4867924916198065,
          29.18986078832628,
          -10.409738068164357,
          -18.83119271194358,
          25.532132268833617,
          -8.655235790512922,
          -42.66245769684712,
          -28.044217889010543,
          44.13857508857207,
          6.263609267964138,
          -14.545800715096483,
          17.82602659208727,
          68.2843692449949,
          50.979735170117635,
          -8.486504266044502,
          12.588742895511654,
          -6.531777157449069,
          -30.38974910872154,
          -15.639063085121332,
          22.25687088188149,
          5.968683125262393,
          -18.20538012034629,
          26.76793242701755,
          -22.24818214360325,
          15.217366268026344,
          -77.28713725927247,
          -29.77423834721531,
          21.847258143323444,
          0.4990183151577749,
          -27.545294898890347,
          -17.904540888334893,
          -22.266614152791465,
          1.3589261698435395,
          -41.52709663863039,
          -49.37294903352724,
          -58.23969510466821,
          -26.361673371785837,
          -55.00216690914487,
          -27.822134349289307,
          16.37953795491413,
          23.590853851019023,
          20.29358778978806,
          50.657109704099064,
          -8.29931957691416,
          -3.3651316956430763,
          7.8927026955278095,
          -46.27567463473832,
          -45.52695458715281,
          -31.092533136495017,
          -35.690154574494876,
          30.59009177941593,
          -35.98048397637929,
          -17.03009520131723,
          15.77015621900571,
          -6.527773634832589,
          -18.926171488100334
         ],
         "y": [
          10.402085584635575,
          -7.56744854775781,
          3.0920519350091413,
          -33.61164341351271,
          -46.09856169841075,
          -24.576773507342605,
          1.7713007477096536,
          -11.946727358722514,
          -34.14759275097132,
          -12.925618209324401,
          45.06933995938835,
          19.029039398533577,
          -19.232568134081234,
          -14.31467370990748,
          17.260896397526146,
          -16.610444675692644,
          59.99610330747186,
          23.779078134629504,
          19.57330511515587,
          25.00261073223949,
          -0.9663575667110038,
          2.084701565340805,
          28.1393056291743,
          -3.4056126832441866,
          11.135189701244714,
          -56.309782258412135,
          -0.9748569050561746,
          15.06534841405779,
          -34.02078602170226,
          42.551250605789434,
          30.29570695296106,
          -14.51544189496471,
          21.746763155967674,
          55.24746932771855,
          42.29809299346696,
          -40.68498565268624,
          -39.64322628487304,
          45.41068063153642,
          21.51539244606759,
          -26.852723740484453,
          35.983055016549656,
          -6.8112258784983215,
          -33.14347199840195,
          15.245899359538711,
          11.191723993512085,
          4.433182876265495,
          -45.30616958100759,
          27.8756211916578,
          7.530442611644421,
          10.161342389899291,
          -40.39707348344655,
          -17.21130306906285,
          -16.538234518890143,
          21.939044345016974,
          -23.71848049197281,
          27.37570335966072,
          -20.141179932446633,
          -7.620675811832503,
          -4.730323633120568,
          21.00013174168679
         ],
         "z": [
          29.70516387873274,
          29.495272848633714,
          13.224314090887786,
          6.1363173773856605,
          -53.32519526985679,
          -1.326947363344607,
          -36.37454550514429,
          -12.359811047431682,
          52.60043701683337,
          -28.302645492343323,
          64.4597102538824,
          0.9998327968687447,
          -11.0958241026183,
          13.819837929457147,
          -34.7916746885022,
          58.939850685733525,
          -51.474200891152904,
          31.294328908936112,
          -80.7507844460539,
          -49.64399757990959,
          1.462612589469688,
          5.88548240927287,
          -46.109066807494635,
          21.508015549970782,
          -8.818893352447526,
          -21.364709226643235,
          12.254138443765694,
          24.605725806876784,
          -0.8705426689630459,
          7.267124585289282,
          -74.79239596880491,
          3.989005369954846,
          28.031466987943126,
          0.39540723512710263,
          -18.759385432555497,
          30.100562174857963,
          -43.10949150185254,
          10.727789871911792,
          18.93457137874784,
          -34.423266310574554,
          -0.7520401740758131,
          3.529571581066719,
          9.188133223969972,
          -27.47109473613296,
          24.325804661069043,
          -66.99767206880865,
          -60.074900101181555,
          7.608685267682061,
          -2.5514969663828517,
          35.66002413383177,
          -42.87090499294885,
          27.76841846703284,
          -4.611558342093055,
          -6.364992216674618,
          -22.7349150555481,
          -29.836991171881976,
          19.975415910636844,
          16.134596506474242,
          -26.508491157642883,
          -31.22736448296644
         ]
        }
       ],
       "layout": {
        "scene": {
         "xaxis": {
          "showspikes": false
         },
         "yaxis": {
          "showspikes": false
         }
        },
        "template": {
         "data": {
          "bar": [
           {
            "error_x": {
             "color": "#2a3f5f"
            },
            "error_y": {
             "color": "#2a3f5f"
            },
            "marker": {
             "line": {
              "color": "#E5ECF6",
              "width": 0.5
             }
            },
            "type": "bar"
           }
          ],
          "barpolar": [
           {
            "marker": {
             "line": {
              "color": "#E5ECF6",
              "width": 0.5
             }
            },
            "type": "barpolar"
           }
          ],
          "carpet": [
           {
            "aaxis": {
             "endlinecolor": "#2a3f5f",
             "gridcolor": "white",
             "linecolor": "white",
             "minorgridcolor": "white",
             "startlinecolor": "#2a3f5f"
            },
            "baxis": {
             "endlinecolor": "#2a3f5f",
             "gridcolor": "white",
             "linecolor": "white",
             "minorgridcolor": "white",
             "startlinecolor": "#2a3f5f"
            },
            "type": "carpet"
           }
          ],
          "choropleth": [
           {
            "colorbar": {
             "outlinewidth": 0,
             "ticks": ""
            },
            "type": "choropleth"
           }
          ],
          "contour": [
           {
            "colorbar": {
             "outlinewidth": 0,
             "ticks": ""
            },
            "colorscale": [
             [
              0,
              "#0d0887"
             ],
             [
              0.1111111111111111,
              "#46039f"
             ],
             [
              0.2222222222222222,
              "#7201a8"
             ],
             [
              0.3333333333333333,
              "#9c179e"
             ],
             [
              0.4444444444444444,
              "#bd3786"
             ],
             [
              0.5555555555555556,
              "#d8576b"
             ],
             [
              0.6666666666666666,
              "#ed7953"
             ],
             [
              0.7777777777777778,
              "#fb9f3a"
             ],
             [
              0.8888888888888888,
              "#fdca26"
             ],
             [
              1,
              "#f0f921"
             ]
            ],
            "type": "contour"
           }
          ],
          "contourcarpet": [
           {
            "colorbar": {
             "outlinewidth": 0,
             "ticks": ""
            },
            "type": "contourcarpet"
           }
          ],
          "heatmap": [
           {
            "colorbar": {
             "outlinewidth": 0,
             "ticks": ""
            },
            "colorscale": [
             [
              0,
              "#0d0887"
             ],
             [
              0.1111111111111111,
              "#46039f"
             ],
             [
              0.2222222222222222,
              "#7201a8"
             ],
             [
              0.3333333333333333,
              "#9c179e"
             ],
             [
              0.4444444444444444,
              "#bd3786"
             ],
             [
              0.5555555555555556,
              "#d8576b"
             ],
             [
              0.6666666666666666,
              "#ed7953"
             ],
             [
              0.7777777777777778,
              "#fb9f3a"
             ],
             [
              0.8888888888888888,
              "#fdca26"
             ],
             [
              1,
              "#f0f921"
             ]
            ],
            "type": "heatmap"
           }
          ],
          "heatmapgl": [
           {
            "colorbar": {
             "outlinewidth": 0,
             "ticks": ""
            },
            "colorscale": [
             [
              0,
              "#0d0887"
             ],
             [
              0.1111111111111111,
              "#46039f"
             ],
             [
              0.2222222222222222,
              "#7201a8"
             ],
             [
              0.3333333333333333,
              "#9c179e"
             ],
             [
              0.4444444444444444,
              "#bd3786"
             ],
             [
              0.5555555555555556,
              "#d8576b"
             ],
             [
              0.6666666666666666,
              "#ed7953"
             ],
             [
              0.7777777777777778,
              "#fb9f3a"
             ],
             [
              0.8888888888888888,
              "#fdca26"
             ],
             [
              1,
              "#f0f921"
             ]
            ],
            "type": "heatmapgl"
           }
          ],
          "histogram": [
           {
            "marker": {
             "colorbar": {
              "outlinewidth": 0,
              "ticks": ""
             }
            },
            "type": "histogram"
           }
          ],
          "histogram2d": [
           {
            "colorbar": {
             "outlinewidth": 0,
             "ticks": ""
            },
            "colorscale": [
             [
              0,
              "#0d0887"
             ],
             [
              0.1111111111111111,
              "#46039f"
             ],
             [
              0.2222222222222222,
              "#7201a8"
             ],
             [
              0.3333333333333333,
              "#9c179e"
             ],
             [
              0.4444444444444444,
              "#bd3786"
             ],
             [
              0.5555555555555556,
              "#d8576b"
             ],
             [
              0.6666666666666666,
              "#ed7953"
             ],
             [
              0.7777777777777778,
              "#fb9f3a"
             ],
             [
              0.8888888888888888,
              "#fdca26"
             ],
             [
              1,
              "#f0f921"
             ]
            ],
            "type": "histogram2d"
           }
          ],
          "histogram2dcontour": [
           {
            "colorbar": {
             "outlinewidth": 0,
             "ticks": ""
            },
            "colorscale": [
             [
              0,
              "#0d0887"
             ],
             [
              0.1111111111111111,
              "#46039f"
             ],
             [
              0.2222222222222222,
              "#7201a8"
             ],
             [
              0.3333333333333333,
              "#9c179e"
             ],
             [
              0.4444444444444444,
              "#bd3786"
             ],
             [
              0.5555555555555556,
              "#d8576b"
             ],
             [
              0.6666666666666666,
              "#ed7953"
             ],
             [
              0.7777777777777778,
              "#fb9f3a"
             ],
             [
              0.8888888888888888,
              "#fdca26"
             ],
             [
              1,
              "#f0f921"
             ]
            ],
            "type": "histogram2dcontour"
           }
          ],
          "mesh3d": [
           {
            "colorbar": {
             "outlinewidth": 0,
             "ticks": ""
            },
            "type": "mesh3d"
           }
          ],
          "parcoords": [
           {
            "line": {
             "colorbar": {
              "outlinewidth": 0,
              "ticks": ""
             }
            },
            "type": "parcoords"
           }
          ],
          "pie": [
           {
            "automargin": true,
            "type": "pie"
           }
          ],
          "scatter": [
           {
            "marker": {
             "colorbar": {
              "outlinewidth": 0,
              "ticks": ""
             }
            },
            "type": "scatter"
           }
          ],
          "scatter3d": [
           {
            "line": {
             "colorbar": {
              "outlinewidth": 0,
              "ticks": ""
             }
            },
            "marker": {
             "colorbar": {
              "outlinewidth": 0,
              "ticks": ""
             }
            },
            "type": "scatter3d"
           }
          ],
          "scattercarpet": [
           {
            "marker": {
             "colorbar": {
              "outlinewidth": 0,
              "ticks": ""
             }
            },
            "type": "scattercarpet"
           }
          ],
          "scattergeo": [
           {
            "marker": {
             "colorbar": {
              "outlinewidth": 0,
              "ticks": ""
             }
            },
            "type": "scattergeo"
           }
          ],
          "scattergl": [
           {
            "marker": {
             "colorbar": {
              "outlinewidth": 0,
              "ticks": ""
             }
            },
            "type": "scattergl"
           }
          ],
          "scattermapbox": [
           {
            "marker": {
             "colorbar": {
              "outlinewidth": 0,
              "ticks": ""
             }
            },
            "type": "scattermapbox"
           }
          ],
          "scatterpolar": [
           {
            "marker": {
             "colorbar": {
              "outlinewidth": 0,
              "ticks": ""
             }
            },
            "type": "scatterpolar"
           }
          ],
          "scatterpolargl": [
           {
            "marker": {
             "colorbar": {
              "outlinewidth": 0,
              "ticks": ""
             }
            },
            "type": "scatterpolargl"
           }
          ],
          "scatterternary": [
           {
            "marker": {
             "colorbar": {
              "outlinewidth": 0,
              "ticks": ""
             }
            },
            "type": "scatterternary"
           }
          ],
          "surface": [
           {
            "colorbar": {
             "outlinewidth": 0,
             "ticks": ""
            },
            "colorscale": [
             [
              0,
              "#0d0887"
             ],
             [
              0.1111111111111111,
              "#46039f"
             ],
             [
              0.2222222222222222,
              "#7201a8"
             ],
             [
              0.3333333333333333,
              "#9c179e"
             ],
             [
              0.4444444444444444,
              "#bd3786"
             ],
             [
              0.5555555555555556,
              "#d8576b"
             ],
             [
              0.6666666666666666,
              "#ed7953"
             ],
             [
              0.7777777777777778,
              "#fb9f3a"
             ],
             [
              0.8888888888888888,
              "#fdca26"
             ],
             [
              1,
              "#f0f921"
             ]
            ],
            "type": "surface"
           }
          ],
          "table": [
           {
            "cells": {
             "fill": {
              "color": "#EBF0F8"
             },
             "line": {
              "color": "white"
             }
            },
            "header": {
             "fill": {
              "color": "#C8D4E3"
             },
             "line": {
              "color": "white"
             }
            },
            "type": "table"
           }
          ]
         },
         "layout": {
          "annotationdefaults": {
           "arrowcolor": "#2a3f5f",
           "arrowhead": 0,
           "arrowwidth": 1
          },
          "coloraxis": {
           "colorbar": {
            "outlinewidth": 0,
            "ticks": ""
           }
          },
          "colorscale": {
           "diverging": [
            [
             0,
             "#8e0152"
            ],
            [
             0.1,
             "#c51b7d"
            ],
            [
             0.2,
             "#de77ae"
            ],
            [
             0.3,
             "#f1b6da"
            ],
            [
             0.4,
             "#fde0ef"
            ],
            [
             0.5,
             "#f7f7f7"
            ],
            [
             0.6,
             "#e6f5d0"
            ],
            [
             0.7,
             "#b8e186"
            ],
            [
             0.8,
             "#7fbc41"
            ],
            [
             0.9,
             "#4d9221"
            ],
            [
             1,
             "#276419"
            ]
           ],
           "sequential": [
            [
             0,
             "#0d0887"
            ],
            [
             0.1111111111111111,
             "#46039f"
            ],
            [
             0.2222222222222222,
             "#7201a8"
            ],
            [
             0.3333333333333333,
             "#9c179e"
            ],
            [
             0.4444444444444444,
             "#bd3786"
            ],
            [
             0.5555555555555556,
             "#d8576b"
            ],
            [
             0.6666666666666666,
             "#ed7953"
            ],
            [
             0.7777777777777778,
             "#fb9f3a"
            ],
            [
             0.8888888888888888,
             "#fdca26"
            ],
            [
             1,
             "#f0f921"
            ]
           ],
           "sequentialminus": [
            [
             0,
             "#0d0887"
            ],
            [
             0.1111111111111111,
             "#46039f"
            ],
            [
             0.2222222222222222,
             "#7201a8"
            ],
            [
             0.3333333333333333,
             "#9c179e"
            ],
            [
             0.4444444444444444,
             "#bd3786"
            ],
            [
             0.5555555555555556,
             "#d8576b"
            ],
            [
             0.6666666666666666,
             "#ed7953"
            ],
            [
             0.7777777777777778,
             "#fb9f3a"
            ],
            [
             0.8888888888888888,
             "#fdca26"
            ],
            [
             1,
             "#f0f921"
            ]
           ]
          },
          "colorway": [
           "#636efa",
           "#EF553B",
           "#00cc96",
           "#ab63fa",
           "#FFA15A",
           "#19d3f3",
           "#FF6692",
           "#B6E880",
           "#FF97FF",
           "#FECB52"
          ],
          "font": {
           "color": "#2a3f5f"
          },
          "geo": {
           "bgcolor": "white",
           "lakecolor": "white",
           "landcolor": "#E5ECF6",
           "showlakes": true,
           "showland": true,
           "subunitcolor": "white"
          },
          "hoverlabel": {
           "align": "left"
          },
          "hovermode": "closest",
          "mapbox": {
           "style": "light"
          },
          "paper_bgcolor": "white",
          "plot_bgcolor": "#E5ECF6",
          "polar": {
           "angularaxis": {
            "gridcolor": "white",
            "linecolor": "white",
            "ticks": ""
           },
           "bgcolor": "#E5ECF6",
           "radialaxis": {
            "gridcolor": "white",
            "linecolor": "white",
            "ticks": ""
           }
          },
          "scene": {
           "xaxis": {
            "backgroundcolor": "#E5ECF6",
            "gridcolor": "white",
            "gridwidth": 2,
            "linecolor": "white",
            "showbackground": true,
            "ticks": "",
            "zerolinecolor": "white"
           },
           "yaxis": {
            "backgroundcolor": "#E5ECF6",
            "gridcolor": "white",
            "gridwidth": 2,
            "linecolor": "white",
            "showbackground": true,
            "ticks": "",
            "zerolinecolor": "white"
           },
           "zaxis": {
            "backgroundcolor": "#E5ECF6",
            "gridcolor": "white",
            "gridwidth": 2,
            "linecolor": "white",
            "showbackground": true,
            "ticks": "",
            "zerolinecolor": "white"
           }
          },
          "shapedefaults": {
           "line": {
            "color": "#2a3f5f"
           }
          },
          "ternary": {
           "aaxis": {
            "gridcolor": "white",
            "linecolor": "white",
            "ticks": ""
           },
           "baxis": {
            "gridcolor": "white",
            "linecolor": "white",
            "ticks": ""
           },
           "bgcolor": "#E5ECF6",
           "caxis": {
            "gridcolor": "white",
            "linecolor": "white",
            "ticks": ""
           }
          },
          "title": {
           "x": 0.05
          },
          "xaxis": {
           "automargin": true,
           "gridcolor": "white",
           "linecolor": "white",
           "ticks": "",
           "title": {
            "standoff": 15
           },
           "zerolinecolor": "white",
           "zerolinewidth": 2
          },
          "yaxis": {
           "automargin": true,
           "gridcolor": "white",
           "linecolor": "white",
           "ticks": "",
           "title": {
            "standoff": 15
           },
           "zerolinecolor": "white",
           "zerolinewidth": 2
          }
         }
        }
       }
      },
      "text/html": [
       "<div>\n",
       "        \n",
       "        \n",
       "            <div id=\"4a773596-75cc-4570-996b-d12923842109\" class=\"plotly-graph-div\" style=\"height:525px; width:100%;\"></div>\n",
       "            <script type=\"text/javascript\">\n",
       "                require([\"plotly\"], function(Plotly) {\n",
       "                    window.PLOTLYENV=window.PLOTLYENV || {};\n",
       "                    \n",
       "                if (document.getElementById(\"4a773596-75cc-4570-996b-d12923842109\")) {\n",
       "                    Plotly.newPlot(\n",
       "                        '4a773596-75cc-4570-996b-d12923842109',\n",
       "                        [{\"opacity\": 0.5, \"type\": \"mesh3d\", \"x\": [51.72766336829432, 51.06333902378109, 32.1154335867422, 16.08411858577689, -5.4867924916198065, 29.18986078832628, -10.409738068164357, -18.83119271194358, 25.532132268833617, -8.655235790512922, -42.66245769684712, -28.044217889010543, 44.13857508857207, 6.263609267964138, -14.545800715096483, 17.82602659208727, 68.2843692449949, 50.979735170117635, -8.486504266044502, 12.588742895511654, -6.531777157449069, -30.38974910872154, -15.639063085121332, 22.25687088188149, 5.968683125262393, -18.20538012034629, 26.76793242701755, -22.24818214360325, 15.217366268026344, -77.28713725927247, -29.77423834721531, 21.847258143323444, 0.4990183151577749, -27.545294898890347, -17.904540888334893, -22.266614152791465, 1.3589261698435395, -41.52709663863039, -49.37294903352724, -58.23969510466821, -26.361673371785837, -55.00216690914487, -27.822134349289307, 16.37953795491413, 23.590853851019023, 20.29358778978806, 50.657109704099064, -8.29931957691416, -3.3651316956430763, 7.8927026955278095, -46.27567463473832, -45.52695458715281, -31.092533136495017, -35.690154574494876, 30.59009177941593, -35.98048397637929, -17.03009520131723, 15.77015621900571, -6.527773634832589, -18.926171488100334], \"y\": [10.402085584635575, -7.56744854775781, 3.0920519350091413, -33.61164341351271, -46.09856169841075, -24.576773507342605, 1.7713007477096536, -11.946727358722514, -34.14759275097132, -12.925618209324401, 45.06933995938835, 19.029039398533577, -19.232568134081234, -14.31467370990748, 17.260896397526146, -16.610444675692644, 59.99610330747186, 23.779078134629504, 19.57330511515587, 25.00261073223949, -0.9663575667110038, 2.084701565340805, 28.1393056291743, -3.4056126832441866, 11.135189701244714, -56.309782258412135, -0.9748569050561746, 15.06534841405779, -34.02078602170226, 42.551250605789434, 30.29570695296106, -14.51544189496471, 21.746763155967674, 55.24746932771855, 42.29809299346696, -40.68498565268624, -39.64322628487304, 45.41068063153642, 21.51539244606759, -26.852723740484453, 35.983055016549656, -6.8112258784983215, -33.14347199840195, 15.245899359538711, 11.191723993512085, 4.433182876265495, -45.30616958100759, 27.8756211916578, 7.530442611644421, 10.161342389899291, -40.39707348344655, -17.21130306906285, -16.538234518890143, 21.939044345016974, -23.71848049197281, 27.37570335966072, -20.141179932446633, -7.620675811832503, -4.730323633120568, 21.00013174168679], \"z\": [29.70516387873274, 29.495272848633714, 13.224314090887786, 6.1363173773856605, -53.32519526985679, -1.326947363344607, -36.37454550514429, -12.359811047431682, 52.60043701683337, -28.302645492343323, 64.4597102538824, 0.9998327968687447, -11.0958241026183, 13.819837929457147, -34.7916746885022, 58.939850685733525, -51.474200891152904, 31.294328908936112, -80.7507844460539, -49.64399757990959, 1.462612589469688, 5.88548240927287, -46.109066807494635, 21.508015549970782, -8.818893352447526, -21.364709226643235, 12.254138443765694, 24.605725806876784, -0.8705426689630459, 7.267124585289282, -74.79239596880491, 3.989005369954846, 28.031466987943126, 0.39540723512710263, -18.759385432555497, 30.100562174857963, -43.10949150185254, 10.727789871911792, 18.93457137874784, -34.423266310574554, -0.7520401740758131, 3.529571581066719, 9.188133223969972, -27.47109473613296, 24.325804661069043, -66.99767206880865, -60.074900101181555, 7.608685267682061, -2.5514969663828517, 35.66002413383177, -42.87090499294885, 27.76841846703284, -4.611558342093055, -6.364992216674618, -22.7349150555481, -29.836991171881976, 19.975415910636844, 16.134596506474242, -26.508491157642883, -31.22736448296644]}],\n",
       "                        {\"scene\": {\"xaxis\": {\"showspikes\": false}, \"yaxis\": {\"showspikes\": false}}, \"template\": {\"data\": {\"bar\": [{\"error_x\": {\"color\": \"#2a3f5f\"}, \"error_y\": {\"color\": \"#2a3f5f\"}, \"marker\": {\"line\": {\"color\": \"#E5ECF6\", \"width\": 0.5}}, \"type\": \"bar\"}], \"barpolar\": [{\"marker\": {\"line\": {\"color\": \"#E5ECF6\", \"width\": 0.5}}, \"type\": \"barpolar\"}], \"carpet\": [{\"aaxis\": {\"endlinecolor\": \"#2a3f5f\", \"gridcolor\": \"white\", \"linecolor\": \"white\", \"minorgridcolor\": \"white\", \"startlinecolor\": \"#2a3f5f\"}, \"baxis\": {\"endlinecolor\": \"#2a3f5f\", \"gridcolor\": \"white\", \"linecolor\": \"white\", \"minorgridcolor\": \"white\", \"startlinecolor\": \"#2a3f5f\"}, \"type\": \"carpet\"}], \"choropleth\": [{\"colorbar\": {\"outlinewidth\": 0, \"ticks\": \"\"}, \"type\": \"choropleth\"}], \"contour\": [{\"colorbar\": {\"outlinewidth\": 0, \"ticks\": \"\"}, \"colorscale\": [[0.0, \"#0d0887\"], [0.1111111111111111, \"#46039f\"], [0.2222222222222222, \"#7201a8\"], [0.3333333333333333, \"#9c179e\"], [0.4444444444444444, \"#bd3786\"], [0.5555555555555556, \"#d8576b\"], [0.6666666666666666, \"#ed7953\"], [0.7777777777777778, \"#fb9f3a\"], [0.8888888888888888, \"#fdca26\"], [1.0, \"#f0f921\"]], \"type\": \"contour\"}], \"contourcarpet\": [{\"colorbar\": {\"outlinewidth\": 0, \"ticks\": \"\"}, \"type\": \"contourcarpet\"}], \"heatmap\": [{\"colorbar\": {\"outlinewidth\": 0, \"ticks\": \"\"}, \"colorscale\": [[0.0, \"#0d0887\"], [0.1111111111111111, \"#46039f\"], [0.2222222222222222, \"#7201a8\"], [0.3333333333333333, \"#9c179e\"], [0.4444444444444444, \"#bd3786\"], [0.5555555555555556, \"#d8576b\"], [0.6666666666666666, \"#ed7953\"], [0.7777777777777778, \"#fb9f3a\"], [0.8888888888888888, \"#fdca26\"], [1.0, \"#f0f921\"]], \"type\": \"heatmap\"}], \"heatmapgl\": [{\"colorbar\": {\"outlinewidth\": 0, \"ticks\": \"\"}, \"colorscale\": [[0.0, \"#0d0887\"], [0.1111111111111111, \"#46039f\"], [0.2222222222222222, \"#7201a8\"], [0.3333333333333333, \"#9c179e\"], [0.4444444444444444, \"#bd3786\"], [0.5555555555555556, \"#d8576b\"], [0.6666666666666666, \"#ed7953\"], [0.7777777777777778, \"#fb9f3a\"], [0.8888888888888888, \"#fdca26\"], [1.0, \"#f0f921\"]], \"type\": \"heatmapgl\"}], \"histogram\": [{\"marker\": {\"colorbar\": {\"outlinewidth\": 0, \"ticks\": \"\"}}, \"type\": \"histogram\"}], \"histogram2d\": [{\"colorbar\": {\"outlinewidth\": 0, \"ticks\": \"\"}, \"colorscale\": [[0.0, \"#0d0887\"], [0.1111111111111111, \"#46039f\"], [0.2222222222222222, \"#7201a8\"], [0.3333333333333333, \"#9c179e\"], [0.4444444444444444, \"#bd3786\"], [0.5555555555555556, \"#d8576b\"], [0.6666666666666666, \"#ed7953\"], [0.7777777777777778, \"#fb9f3a\"], [0.8888888888888888, \"#fdca26\"], [1.0, \"#f0f921\"]], \"type\": \"histogram2d\"}], \"histogram2dcontour\": [{\"colorbar\": {\"outlinewidth\": 0, \"ticks\": \"\"}, \"colorscale\": [[0.0, \"#0d0887\"], [0.1111111111111111, \"#46039f\"], [0.2222222222222222, \"#7201a8\"], [0.3333333333333333, \"#9c179e\"], [0.4444444444444444, \"#bd3786\"], [0.5555555555555556, \"#d8576b\"], [0.6666666666666666, \"#ed7953\"], [0.7777777777777778, \"#fb9f3a\"], [0.8888888888888888, \"#fdca26\"], [1.0, \"#f0f921\"]], \"type\": \"histogram2dcontour\"}], \"mesh3d\": [{\"colorbar\": {\"outlinewidth\": 0, \"ticks\": \"\"}, \"type\": \"mesh3d\"}], \"parcoords\": [{\"line\": {\"colorbar\": {\"outlinewidth\": 0, \"ticks\": \"\"}}, \"type\": \"parcoords\"}], \"pie\": [{\"automargin\": true, \"type\": \"pie\"}], \"scatter\": [{\"marker\": {\"colorbar\": {\"outlinewidth\": 0, \"ticks\": \"\"}}, \"type\": \"scatter\"}], \"scatter3d\": [{\"line\": {\"colorbar\": {\"outlinewidth\": 0, \"ticks\": \"\"}}, \"marker\": {\"colorbar\": {\"outlinewidth\": 0, \"ticks\": \"\"}}, \"type\": \"scatter3d\"}], \"scattercarpet\": [{\"marker\": {\"colorbar\": {\"outlinewidth\": 0, \"ticks\": \"\"}}, \"type\": \"scattercarpet\"}], \"scattergeo\": [{\"marker\": {\"colorbar\": {\"outlinewidth\": 0, \"ticks\": \"\"}}, \"type\": \"scattergeo\"}], \"scattergl\": [{\"marker\": {\"colorbar\": {\"outlinewidth\": 0, \"ticks\": \"\"}}, \"type\": \"scattergl\"}], \"scattermapbox\": [{\"marker\": {\"colorbar\": {\"outlinewidth\": 0, \"ticks\": \"\"}}, \"type\": \"scattermapbox\"}], \"scatterpolar\": [{\"marker\": {\"colorbar\": {\"outlinewidth\": 0, \"ticks\": \"\"}}, \"type\": \"scatterpolar\"}], \"scatterpolargl\": [{\"marker\": {\"colorbar\": {\"outlinewidth\": 0, \"ticks\": \"\"}}, \"type\": \"scatterpolargl\"}], \"scatterternary\": [{\"marker\": {\"colorbar\": {\"outlinewidth\": 0, \"ticks\": \"\"}}, \"type\": \"scatterternary\"}], \"surface\": [{\"colorbar\": {\"outlinewidth\": 0, \"ticks\": \"\"}, \"colorscale\": [[0.0, \"#0d0887\"], [0.1111111111111111, \"#46039f\"], [0.2222222222222222, \"#7201a8\"], [0.3333333333333333, \"#9c179e\"], [0.4444444444444444, \"#bd3786\"], [0.5555555555555556, \"#d8576b\"], [0.6666666666666666, \"#ed7953\"], [0.7777777777777778, \"#fb9f3a\"], [0.8888888888888888, \"#fdca26\"], [1.0, \"#f0f921\"]], \"type\": \"surface\"}], \"table\": [{\"cells\": {\"fill\": {\"color\": \"#EBF0F8\"}, \"line\": {\"color\": \"white\"}}, \"header\": {\"fill\": {\"color\": \"#C8D4E3\"}, \"line\": {\"color\": \"white\"}}, \"type\": \"table\"}]}, \"layout\": {\"annotationdefaults\": {\"arrowcolor\": \"#2a3f5f\", \"arrowhead\": 0, \"arrowwidth\": 1}, \"coloraxis\": {\"colorbar\": {\"outlinewidth\": 0, \"ticks\": \"\"}}, \"colorscale\": {\"diverging\": [[0, \"#8e0152\"], [0.1, \"#c51b7d\"], [0.2, \"#de77ae\"], [0.3, \"#f1b6da\"], [0.4, \"#fde0ef\"], [0.5, \"#f7f7f7\"], [0.6, \"#e6f5d0\"], [0.7, \"#b8e186\"], [0.8, \"#7fbc41\"], [0.9, \"#4d9221\"], [1, \"#276419\"]], \"sequential\": [[0.0, \"#0d0887\"], [0.1111111111111111, \"#46039f\"], [0.2222222222222222, \"#7201a8\"], [0.3333333333333333, \"#9c179e\"], [0.4444444444444444, \"#bd3786\"], [0.5555555555555556, \"#d8576b\"], [0.6666666666666666, \"#ed7953\"], [0.7777777777777778, \"#fb9f3a\"], [0.8888888888888888, \"#fdca26\"], [1.0, \"#f0f921\"]], \"sequentialminus\": [[0.0, \"#0d0887\"], [0.1111111111111111, \"#46039f\"], [0.2222222222222222, \"#7201a8\"], [0.3333333333333333, \"#9c179e\"], [0.4444444444444444, \"#bd3786\"], [0.5555555555555556, \"#d8576b\"], [0.6666666666666666, \"#ed7953\"], [0.7777777777777778, \"#fb9f3a\"], [0.8888888888888888, \"#fdca26\"], [1.0, \"#f0f921\"]]}, \"colorway\": [\"#636efa\", \"#EF553B\", \"#00cc96\", \"#ab63fa\", \"#FFA15A\", \"#19d3f3\", \"#FF6692\", \"#B6E880\", \"#FF97FF\", \"#FECB52\"], \"font\": {\"color\": \"#2a3f5f\"}, \"geo\": {\"bgcolor\": \"white\", \"lakecolor\": \"white\", \"landcolor\": \"#E5ECF6\", \"showlakes\": true, \"showland\": true, \"subunitcolor\": \"white\"}, \"hoverlabel\": {\"align\": \"left\"}, \"hovermode\": \"closest\", \"mapbox\": {\"style\": \"light\"}, \"paper_bgcolor\": \"white\", \"plot_bgcolor\": \"#E5ECF6\", \"polar\": {\"angularaxis\": {\"gridcolor\": \"white\", \"linecolor\": \"white\", \"ticks\": \"\"}, \"bgcolor\": \"#E5ECF6\", \"radialaxis\": {\"gridcolor\": \"white\", \"linecolor\": \"white\", \"ticks\": \"\"}}, \"scene\": {\"xaxis\": {\"backgroundcolor\": \"#E5ECF6\", \"gridcolor\": \"white\", \"gridwidth\": 2, \"linecolor\": \"white\", \"showbackground\": true, \"ticks\": \"\", \"zerolinecolor\": \"white\"}, \"yaxis\": {\"backgroundcolor\": \"#E5ECF6\", \"gridcolor\": \"white\", \"gridwidth\": 2, \"linecolor\": \"white\", \"showbackground\": true, \"ticks\": \"\", \"zerolinecolor\": \"white\"}, \"zaxis\": {\"backgroundcolor\": \"#E5ECF6\", \"gridcolor\": \"white\", \"gridwidth\": 2, \"linecolor\": \"white\", \"showbackground\": true, \"ticks\": \"\", \"zerolinecolor\": \"white\"}}, \"shapedefaults\": {\"line\": {\"color\": \"#2a3f5f\"}}, \"ternary\": {\"aaxis\": {\"gridcolor\": \"white\", \"linecolor\": \"white\", \"ticks\": \"\"}, \"baxis\": {\"gridcolor\": \"white\", \"linecolor\": \"white\", \"ticks\": \"\"}, \"bgcolor\": \"#E5ECF6\", \"caxis\": {\"gridcolor\": \"white\", \"linecolor\": \"white\", \"ticks\": \"\"}}, \"title\": {\"x\": 0.05}, \"xaxis\": {\"automargin\": true, \"gridcolor\": \"white\", \"linecolor\": \"white\", \"ticks\": \"\", \"title\": {\"standoff\": 15}, \"zerolinecolor\": \"white\", \"zerolinewidth\": 2}, \"yaxis\": {\"automargin\": true, \"gridcolor\": \"white\", \"linecolor\": \"white\", \"ticks\": \"\", \"title\": {\"standoff\": 15}, \"zerolinecolor\": \"white\", \"zerolinewidth\": 2}}}},\n",
       "                        {\"responsive\": true}\n",
       "                    ).then(function(){\n",
       "                            \n",
       "var gd = document.getElementById('4a773596-75cc-4570-996b-d12923842109');\n",
       "var x = new MutationObserver(function (mutations, observer) {{\n",
       "        var display = window.getComputedStyle(gd).display;\n",
       "        if (!display || display === 'none') {{\n",
       "            console.log([gd, 'removed!']);\n",
       "            Plotly.purge(gd);\n",
       "            observer.disconnect();\n",
       "        }}\n",
       "}});\n",
       "\n",
       "// Listen for the removal of the full notebook cells\n",
       "var notebookContainer = gd.closest('#notebook-container');\n",
       "if (notebookContainer) {{\n",
       "    x.observe(notebookContainer, {childList: true});\n",
       "}}\n",
       "\n",
       "// Listen for the clearing of the current output cell\n",
       "var outputEl = gd.closest('.output');\n",
       "if (outputEl) {{\n",
       "    x.observe(outputEl, {childList: true});\n",
       "}}\n",
       "\n",
       "                        })\n",
       "                };\n",
       "                });\n",
       "            </script>\n",
       "        </div>"
      ]
     },
     "metadata": {},
     "output_type": "display_data"
    },
    {
     "name": "stdout",
     "output_type": "stream",
     "text": [
      "This is using plotly to show 3D image\n"
     ]
    }
   ],
   "source": [
    "import plotly.graph_objects as go\n",
    "import numpy as np\n",
    "\n",
    "N = 60\n",
    "fig = go.Figure(data=[go.Mesh3d(x=(30*np.random.randn(N)),\n",
    "                   y=(25*np.random.randn(N)),\n",
    "                   z=(30*np.random.randn(N)),\n",
    "                   opacity=0.5,)])\n",
    "fig.update_layout(scene=dict(xaxis_showspikes=False,\n",
    "                             yaxis_showspikes=False))\n",
    "fig.show()\n",
    "print('This is using plotly to show 3D image')"
   ]
  },
  {
   "cell_type": "code",
   "execution_count": null,
   "metadata": {
    "collapsed": true
   },
   "outputs": [],
   "source": [
    "import plotly.graph_objects as go\n",
    "import numpy as np\n",
    "\n",
    "N = 50\n",
    "fig = go.Figure(data=[go.Mesh3d(x=(30*np.random.randn(N)),\n",
    "                   y=(25*np.random.randn(N)),\n",
    "                   z=(30*np.random.randn(N)),\n",
    "                   opacity=0.5,)])\n",
    "\n",
    "\n",
    "# xaxis.backgroundcolor is used to set background color\n",
    "fig.update_layout(scene = dict(\n",
    "                    xaxis = dict(\n",
    "                         backgroundcolor=\"rgb(200, 200, 230)\",\n",
    "                         gridcolor=\"white\",\n",
    "                         showbackground=True,\n",
    "                         zerolinecolor=\"white\",),\n",
    "                    yaxis = dict(\n",
    "                        backgroundcolor=\"rgb(230, 200,230)\",\n",
    "                        gridcolor=\"white\",\n",
    "                        showbackground=True,\n",
    "                        zerolinecolor=\"white\"),\n",
    "                    zaxis = dict(\n",
    "                        backgroundcolor=\"rgb(230, 230,200)\",\n",
    "                        gridcolor=\"white\",\n",
    "                        showbackground=True,\n",
    "                        zerolinecolor=\"white\",),),\n",
    "                    width=700,\n",
    "                    margin=dict(\n",
    "                    r=10, l=10,\n",
    "                    b=10, t=10)\n",
    "                  )\n",
    "fig.show()\n",
    "print('This is using plotly to show 3D image')"
   ]
  },
  {
   "cell_type": "code",
   "execution_count": null,
   "metadata": {
    "collapsed": true
   },
   "outputs": [],
   "source": [
    "import plotly.graph_objects as go\n",
    "import numpy as np\n",
    "\n",
    "# Define random surface\n",
    "N = 50\n",
    "fig = go.Figure(data=[go.Mesh3d(x=(60*np.random.randn(N)),\n",
    "                   y=(25*np.random.randn(N)),\n",
    "                   z=(40*np.random.randn(N)),\n",
    "                   opacity=0.5,\n",
    "                   color='rgba(100,22,200,0.5)'\n",
    "                  )])\n",
    "\n",
    "# Different types of customized ticks\n",
    "fig.update_layout(scene = dict(\n",
    "                    xaxis = dict(\n",
    "                        ticktext= ['TICKS','MESH','PLOTLY','PYTHON'],\n",
    "                        tickvals= [0,50,75,-50]),\n",
    "                    yaxis = dict(\n",
    "                        nticks=5, tickfont=dict(\n",
    "                            color='green',\n",
    "                            size=12,\n",
    "                            family='Old Standard TT, serif',),\n",
    "                        ticksuffix='#'),\n",
    "                    zaxis = dict(\n",
    "                        nticks=4, ticks='outside',\n",
    "                        tick0=0, tickwidth=4),),\n",
    "                    width=700,\n",
    "                    margin=dict(r=10, l=10, b=10, t=10)\n",
    "                  )\n",
    "\n",
    "fig.show()\n",
    "print('This is using plotly to show 3D image Different types of customized ticks')"
   ]
  },
  {
   "cell_type": "code",
   "execution_count": null,
   "metadata": {
    "collapsed": true
   },
   "outputs": [],
   "source": [
    "import plotly.graph_objects as go\n",
    "import numpy as np\n",
    "\n",
    "# Define random surface\n",
    "N = 50\n",
    "fig = go.Figure()\n",
    "fig.add_trace(go.Mesh3d(x=(60*np.random.randn(N)),\n",
    "                   y=(25*np.random.randn(N)),\n",
    "                   z=(40*np.random.randn(N)),\n",
    "                   opacity=0.5,\n",
    "                   color='yellow'\n",
    "                  ))\n",
    "fig.add_trace(go.Mesh3d(x=(70*np.random.randn(N)),\n",
    "                   y=(55*np.random.randn(N)),\n",
    "                   z=(30*np.random.randn(N)),\n",
    "                   opacity=0.5,\n",
    "                   color='pink'\n",
    "                  ))\n",
    "\n",
    "fig.update_layout(scene = dict(\n",
    "                    xaxis_title='X AXIS TITLE',\n",
    "                    yaxis_title='Y AXIS TITLE',\n",
    "                    zaxis_title='Z AXIS TITLE'),\n",
    "                    width=700,\n",
    "                    margin=dict(r=20, b=10, l=10, t=10))\n",
    "\n",
    "fig.show()\n",
    "print('This is using plotly to show 3D image Define random surface')"
   ]
  },
  {
   "cell_type": "code",
   "execution_count": null,
   "metadata": {
    "collapsed": true
   },
   "outputs": [],
   "source": [
    "import plotly.graph_objects as go\n",
    "from plotly.subplots import make_subplots\n",
    "import numpy as np\n",
    "\n",
    "N = 70\n",
    "\n",
    "fig = make_subplots(rows=2, cols=2,\n",
    "                    specs=[[{'is_3d': True}, {'is_3d': True}],\n",
    "                           [{'is_3d': True}, {'is_3d': True}]],\n",
    "                    print_grid=False)\n",
    "for i in [1,2]:\n",
    "    for j in [1,2]:\n",
    "        fig.append_trace(\n",
    "            go.Mesh3d(\n",
    "                x=(60*np.random.randn(N)),\n",
    "                y=(25*np.random.randn(N)),\n",
    "                z=(40*np.random.randn(N)),\n",
    "                opacity=0.5,\n",
    "              ),\n",
    "            row=i, col=j)\n",
    "\n",
    "fig.update_layout(width=700, margin=dict(r=10, l=10, b=10, t=10))\n",
    "# fix the ratio in the top left subplot to be a cube\n",
    "fig.update_layout(scene_aspectmode='cube')\n",
    "# manually force the z-axis to appear twice as big as the other two\n",
    "fig.update_layout(scene2_aspectmode='manual',\n",
    "                  scene2_aspectratio=dict(x=1, y=1, z=2))\n",
    "# draw axes in proportion to the proportion of their ranges\n",
    "fig.update_layout(scene3_aspectmode='data')\n",
    "# automatically produce something that is well proportioned using 'data' as the default\n",
    "fig.update_layout(scene4_aspectmode='auto')\n",
    "fig.show()\n",
    "print('This is using plotly to show 3D image Define cube  manual data auto')"
   ]
  },
  {
   "cell_type": "code",
   "execution_count": null,
   "metadata": {
    "collapsed": true
   },
   "outputs": [],
   "source": [
    "import plotly.graph_objects as go\n",
    "import numpy as np\n",
    "np.random.seed(1)\n",
    "\n",
    "N = 70\n",
    "\n",
    "fig = go.Figure(data=[go.Mesh3d(x=(70*np.random.randn(N)),\n",
    "                   y=(55*np.random.randn(N)),\n",
    "                   z=(40*np.random.randn(N)),\n",
    "                   opacity=0.5,\n",
    "                   color='rgba(244,22,100,0.6)'\n",
    "                  )])\n",
    "\n",
    "fig.update_layout(\n",
    "    scene = dict(\n",
    "        xaxis = dict(nticks=4, range=[-100,100],),\n",
    "                     yaxis = dict(nticks=4, range=[-50,100],),\n",
    "                     zaxis = dict(nticks=4, range=[-100,100],),),\n",
    "    width=700,\n",
    "    margin=dict(r=20, l=10, b=10, t=10))\n",
    "\n",
    "fig.show()\n",
    "print('This is using plotly to show 3D image')"
   ]
  },
  {
   "cell_type": "code",
   "execution_count": null,
   "metadata": {
    "collapsed": true
   },
   "outputs": [],
   "source": [
    "import plotly.express as px\n",
    "df = px.data.iris()\n",
    "fig = px.scatter_3d(df, x='sepal_length', y='sepal_width', z='petal_width',\n",
    "              color='species')\n",
    "fig.show()\n",
    "print('This is using plotly to show 3D image ')"
   ]
  },
  {
   "cell_type": "code",
   "execution_count": null,
   "metadata": {
    "collapsed": true
   },
   "outputs": [],
   "source": [
    "import plotly.express as px\n",
    "df = px.data.iris()\n",
    "fig = px.scatter_3d(df, x='sepal_length', y='sepal_width', z='petal_width',\n",
    "                    color='petal_length', symbol='species')\n",
    "fig.show()\n",
    "print('This is using plotly to show 3D image ')"
   ]
  },
  {
   "cell_type": "code",
   "execution_count": null,
   "metadata": {
    "collapsed": true
   },
   "outputs": [],
   "source": [
    "import plotly.express as px\n",
    "df = px.data.iris()\n",
    "fig = px.scatter_3d(df, x='sepal_length', y='sepal_width', z='petal_width',\n",
    "              color='petal_length', size='petal_length', size_max=18,\n",
    "              symbol='species', opacity=0.7)\n",
    "\n",
    "# tight layout\n",
    "fig.update_layout(margin=dict(l=0, r=0, b=0, t=0))\n",
    "print('This is using plotly to show 3D image scatter_3d ')"
   ]
  },
  {
   "cell_type": "code",
   "execution_count": null,
   "metadata": {
    "collapsed": true
   },
   "outputs": [],
   "source": [
    "import plotly.graph_objects as go\n",
    "import numpy as np\n",
    "\n",
    "# Helix equation\n",
    "t = np.linspace(0, 10, 50)\n",
    "x, y, z = np.cos(t), np.sin(t), t\n",
    "\n",
    "fig = go.Figure(data=[go.Scatter3d(x=x, y=y, z=z,\n",
    "                                   mode='markers')])\n",
    "fig.show()\n",
    "print('This is using plotly to show 3D image Figure ')"
   ]
  },
  {
   "cell_type": "code",
   "execution_count": null,
   "metadata": {
    "collapsed": true
   },
   "outputs": [],
   "source": [
    "import plotly.graph_objects as go\n",
    "import numpy as np\n",
    "\n",
    "# Helix equation\n",
    "t = np.linspace(0, 20, 100)\n",
    "x, y, z = np.cos(t), np.sin(t), t\n",
    "\n",
    "fig = go.Figure(data=[go.Scatter3d(\n",
    "    x=x,\n",
    "    y=y,\n",
    "    z=z,\n",
    "    mode='markers',\n",
    "    marker=dict(\n",
    "        size=12,\n",
    "        color=z,                # set color to an array/list of desired values\n",
    "        colorscale='Viridis',   # choose a colorscale\n",
    "        opacity=0.8\n",
    "    )\n",
    ")])\n",
    "\n",
    "# tight layout\n",
    "fig.update_layout(margin=dict(l=0, r=0, b=0, t=0))\n",
    "fig.show()\n",
    "print('This is using plotly to show 3D image tight layout ')"
   ]
  },
  {
   "cell_type": "code",
   "execution_count": null,
   "metadata": {
    "collapsed": true
   },
   "outputs": [],
   "source": [
    "import plotly.graph_objects as go\n",
    "\n",
    "import pandas as pd\n",
    "\n",
    "# Read data from a csv\n",
    "z_data = pd.read_csv('https://raw.githubusercontent.com/plotly/datasets/master/api_docs/mt_bruno_elevation.csv')\n",
    "\n",
    "fig = go.Figure(data=[go.Surface(z=z_data.values)])\n",
    "\n",
    "fig.update_layout(title='Mt Bruno Elevation', autosize=False,\n",
    "                  width=500, height=500,\n",
    "                  margin=dict(l=65, r=50, b=65, t=90))\n",
    "\n",
    "fig.show()"
   ]
  },
  {
   "cell_type": "code",
   "execution_count": null,
   "metadata": {
    "collapsed": true
   },
   "outputs": [],
   "source": [
    "import plotly.graph_objects as go\n",
    "import pandas as pd\n",
    "import numpy as np\n",
    "# Read data from a csv\n",
    "z_data = pd.read_csv('https://raw.githubusercontent.com/plotly/datasets/master/api_docs/mt_bruno_elevation.csv')\n",
    "z = z_data.values\n",
    "sh_0, sh_1 = z.shape\n",
    "x, y = np.linspace(0, 1, sh_0), np.linspace(0, 1, sh_1)\n",
    "fig = go.Figure(data=[go.Surface(z=z, x=x, y=y)])\n",
    "fig.update_layout(title='Mt Bruno Elevation', autosize=False,\n",
    "                  width=500, height=500,\n",
    "                  margin=dict(l=65, r=50, b=65, t=90))\n",
    "fig.show()"
   ]
  },
  {
   "cell_type": "code",
   "execution_count": null,
   "metadata": {
    "collapsed": true
   },
   "outputs": [],
   "source": [
    "import plotly.graph_objects as go\n",
    "\n",
    "import pandas as pd\n",
    "\n",
    "# Read data from a csv\n",
    "z_data = pd.read_csv('https://raw.githubusercontent.com/plotly/datasets/master/api_docs/mt_bruno_elevation.csv')\n",
    "\n",
    "fig = go.Figure(data=[go.Surface(z=z_data.values)])\n",
    "fig.update_traces(contours_z=dict(show=True, usecolormap=True,\n",
    "                                  highlightcolor=\"limegreen\", project_z=True))\n",
    "fig.update_layout(title='Mt Bruno Elevation', autosize=False,\n",
    "                  scene_camera_eye=dict(x=1.87, y=0.88, z=-0.64),\n",
    "                  width=500, height=500,\n",
    "                  margin=dict(l=65, r=50, b=65, t=90)\n",
    ")\n",
    "\n",
    "fig.show()"
   ]
  },
  {
   "cell_type": "code",
   "execution_count": null,
   "metadata": {
    "collapsed": true
   },
   "outputs": [],
   "source": [
    "import plotly.graph_objects as go\n",
    "\n",
    "fig = go.Figure(go.Surface(\n",
    "    contours = {\n",
    "        \"x\": {\"show\": True, \"start\": 1.5, \"end\": 2, \"size\": 0.04, \"color\":\"white\"},\n",
    "        \"z\": {\"show\": True, \"start\": 0.5, \"end\": 0.8, \"size\": 0.05}\n",
    "    },\n",
    "    x = [1,2,3,4,5],\n",
    "    y = [1,2,3,4,5],\n",
    "    z = [\n",
    "        [0, 1, 0, 1, 0],\n",
    "        [1, 0, 1, 0, 1],\n",
    "        [0, 1, 0, 1, 0],\n",
    "        [1, 0, 1, 0, 1],\n",
    "        [0, 1, 0, 1, 0]\n",
    "    ]))\n",
    "fig.update_layout(\n",
    "        scene = {\n",
    "            \"xaxis\": {\"nticks\": 20},\n",
    "            \"zaxis\": {\"nticks\": 4},\n",
    "            'camera_eye': {\"x\": 0, \"y\": -1, \"z\": 0.5},\n",
    "            \"aspectratio\": {\"x\": 1, \"y\": 1, \"z\": 0.2}\n",
    "        })\n",
    "fig.show()"
   ]
  },
  {
   "cell_type": "code",
   "execution_count": null,
   "metadata": {
    "collapsed": true
   },
   "outputs": [],
   "source": [
    "import plotly.graph_objects as go\n",
    "import numpy as np\n",
    "\n",
    "z1 = np.array([\n",
    "    [8.83,8.89,8.81,8.87,8.9,8.87],\n",
    "    [8.89,8.94,8.85,8.94,8.96,8.92],\n",
    "    [8.84,8.9,8.82,8.92,8.93,8.91],\n",
    "    [8.79,8.85,8.79,8.9,8.94,8.92],\n",
    "    [8.79,8.88,8.81,8.9,8.95,8.92],\n",
    "    [8.8,8.82,8.78,8.91,8.94,8.92],\n",
    "    [8.75,8.78,8.77,8.91,8.95,8.92],\n",
    "    [8.8,8.8,8.77,8.91,8.95,8.94],\n",
    "    [8.74,8.81,8.76,8.93,8.98,8.99],\n",
    "    [8.89,8.99,8.92,9.1,9.13,9.11],\n",
    "    [8.97,8.97,8.91,9.09,9.11,9.11],\n",
    "    [9.04,9.08,9.05,9.25,9.28,9.27],\n",
    "    [9,9.01,9,9.2,9.23,9.2],\n",
    "    [8.99,8.99,8.98,9.18,9.2,9.19],\n",
    "    [8.93,8.97,8.97,9.18,9.2,9.18]\n",
    "])\n",
    "\n",
    "z2 = z1 + 1\n",
    "z3 = z1 - 1\n",
    "\n",
    "fig = go.Figure(data=[\n",
    "    go.Surface(z=z1),\n",
    "    go.Surface(z=z2, showscale=False, opacity=0.9),\n",
    "    go.Surface(z=z3, showscale=False, opacity=0.9)\n",
    "\n",
    "])\n",
    "\n",
    "fig.show()"
   ]
  },
  {
   "cell_type": "code",
   "execution_count": null,
   "metadata": {
    "collapsed": true
   },
   "outputs": [],
   "source": [
    "import plotly.graph_objects as go\n",
    "from plotly.subplots import make_subplots\n",
    "\n",
    "import numpy as np\n",
    "\n",
    "def grid():\n",
    "    \n",
    "# Initialize figure with 4 3D subplots\n",
    "    fig = make_subplots(\n",
    "    rows=2, cols=2,\n",
    "    specs=[[{'type': 'surface'}, {'type': 'surface'}],\n",
    "           [{'type': 'surface'}, {'type': 'surface'}]])\n",
    "\n",
    "# Generate data\n",
    "x = np.linspace(-5, 80, 10)\n",
    "y = np.linspace(-5, 60, 10)\n",
    "xGrid, yGrid = np.meshgrid(y, x)\n",
    "z = xGrid ** 3 + yGrid ** 3\n",
    "\n",
    "# adding surfaces to subplots.\n",
    "fig.add_trace(\n",
    "    go.Surface(x=x, y=y, z=z, colorscale='Viridis', showscale=False),\n",
    "    row=1, col=1)\n",
    "\n",
    "fig.add_trace(\n",
    "    go.Surface(x=x, y=y, z=z, colorscale='RdBu', showscale=False),\n",
    "    row=1, col=2)\n",
    "\n",
    "fig.add_trace(\n",
    "    go.Surface(x=x, y=y, z=z, colorscale='YlOrRd', showscale=False),\n",
    "    row=2, col=1)\n",
    "\n",
    "fig.add_trace(\n",
    "    go.Surface(x=x, y=y, z=z, colorscale='YlGnBu', showscale=False),\n",
    "    row=2, col=2)\n",
    "\n",
    "fig.update_layout(\n",
    "    title_text='3D subplots with different colorscales',\n",
    "    height=800,\n",
    "    width=800\n",
    ")\n",
    "if __name__== \"__main__\" :\n",
    "    fig.show()"
   ]
  },
  {
   "cell_type": "code",
   "execution_count": null,
   "metadata": {
    "collapsed": true
   },
   "outputs": [],
   "source": [
    "import plotly.graph_objects as go\n",
    "\n",
    "fig = go.Figure(data=go.Streamtube(x=[0, 0, 0], y=[0, 1, 2], z=[0, 0, 0],\n",
    "                                   u=[0, 0, 0], v=[1, 1, 1], w=[0, 0, 0]))\n",
    "fig.show()"
   ]
  },
  {
   "cell_type": "code",
   "execution_count": null,
   "metadata": {
    "collapsed": true
   },
   "outputs": [],
   "source": [
    "import plotly.graph_objects as go\n",
    "\n",
    "import pandas as pd\n",
    "\n",
    "df = pd.read_csv('https://raw.githubusercontent.com/plotly/datasets/master/streamtube-wind.csv').drop(['Unnamed: 0'],axis=1)\n",
    "\n",
    "fig = go.Figure(data=go.Streamtube(\n",
    "    x = df['x'],\n",
    "    y = df['y'],\n",
    "    z = df['z'],\n",
    "    u = df['u'],\n",
    "    v = df['v'],\n",
    "    w = df['w'],\n",
    "    starts = dict(\n",
    "        x = [80] * 16,\n",
    "        y = [20,30,40,50] * 4,\n",
    "        z = [0,0,0,0,5,5,5,5,10,10,10,10,15,15,15,15]\n",
    "    ),\n",
    "    sizeref = 0.3,\n",
    "    colorscale = 'Portland',\n",
    "    showscale = False,\n",
    "    maxdisplayed = 3000\n",
    "))\n",
    "\n",
    "fig.update_layout(\n",
    "    scene = dict(\n",
    "        aspectratio = dict(\n",
    "            x = 2,\n",
    "            y = 1,\n",
    "            z = 0.3\n",
    "        )\n",
    "    ),\n",
    "    margin = dict(\n",
    "        t = 20,\n",
    "        b = 20,\n",
    "        l = 20,\n",
    "        r = 20\n",
    "    )\n",
    ")\n",
    "\n",
    "fig.show()"
   ]
  },
  {
   "cell_type": "code",
   "execution_count": null,
   "metadata": {
    "collapsed": true
   },
   "outputs": [],
   "source": [
    "import plotly.graph_objects as go\n",
    "from plotly.subplots import make_subplots\n",
    "import numpy as np\n",
    "\n",
    "x, y, z = np.mgrid[0:10, 0:10, 0:10]\n",
    "x = x.flatten()\n",
    "y = y.flatten()\n",
    "z = z.flatten()\n",
    "\n",
    "u = np.zeros_like(x)\n",
    "v = np.zeros_like(y)\n",
    "w = z**2\n",
    "\n",
    "fig = make_subplots(rows=1, cols=3, specs=[[{'is_3d': True}, {'is_3d': True}, {'is_3d':True}]])\n",
    "\n",
    "fig.add_trace(go.Streamtube(x=x, y=y, z=z, u=u, v=v, w=w), 1, 1)\n",
    "fig.add_trace(go.Streamtube(x=x, y=y, z=z, u=w, v=v, w=u), 1, 2)\n",
    "fig.add_trace(go.Streamtube(x=x, y=y, z=z, u=u, v=w, w=v), 1, 3)\n",
    "\n",
    "fig.update_layout(scene_camera_eye=dict(x=2, y=2, z=2),\n",
    "                  scene2_camera_eye=dict(x=2, y=2, z=2),\n",
    "                  scene3_camera_eye=dict(x=2, y=2, z=2))\n",
    "fig.show()"
   ]
  },
  {
   "cell_type": "code",
   "execution_count": null,
   "metadata": {
    "collapsed": true
   },
   "outputs": [],
   "source": [
    "import plotly.graph_objects as go\n",
    "\n",
    "fig = go.Figure(data=go.Cone(x=[1], y=[1], z=[1], u=[1], v=[1], w=[0]))\n",
    "\n",
    "fig.update_layout(scene_camera_eye=dict(x=-0.76, y=1.8, z=0.92))\n",
    "\n",
    "fig.show()"
   ]
  },
  {
   "cell_type": "code",
   "execution_count": null,
   "metadata": {
    "collapsed": true
   },
   "outputs": [],
   "source": [
    "import plotly.graph_objects as go\n",
    "\n",
    "fig = go.Figure(data=go.Cone(\n",
    "    x=[1, 2, 3],\n",
    "    y=[1, 2, 3],\n",
    "    z=[1, 2, 3],\n",
    "    u=[1, 0, 0],\n",
    "    v=[0, 3, 0],\n",
    "    w=[0, 0, 2],\n",
    "    sizemode=\"absolute\",\n",
    "    sizeref=2,\n",
    "    anchor=\"tip\"))\n",
    "\n",
    "fig.update_layout(\n",
    "      scene=dict(domain_x=[0, 1],\n",
    "                 camera_eye=dict(x=-1.57, y=1.36, z=0.58)))\n",
    "\n",
    "fig.show()"
   ]
  },
  {
   "cell_type": "code",
   "execution_count": null,
   "metadata": {
    "collapsed": true
   },
   "outputs": [],
   "source": [
    "import plotly.graph_objects as go\n",
    "\n",
    "fig = go.Figure()\n",
    "fig.add_trace(go.Cone(x=[1,] * 3, name=\"base\"))\n",
    "fig.add_trace(go.Cone(x=[2,] * 3, opacity=0.3, name=\"opacity:0.3\"))\n",
    "fig.add_trace(go.Cone(x=[3,] * 3, lighting_ambient=0.3, name=\"lighting.ambient:0.3\"))\n",
    "fig.add_trace(go.Cone(x=[4,] * 3, lighting_diffuse=0.3, name=\"lighting.diffuse:0.3\"))\n",
    "fig.add_trace(go.Cone(x=[5,] * 3, lighting_specular=2, name=\"lighting.specular:2\"))\n",
    "fig.add_trace(go.Cone(x=[6,] * 3, lighting_roughness=1, name=\"lighting.roughness:1\"))\n",
    "fig.add_trace(go.Cone(x=[7,] * 3, lighting_fresnel=2, name=\"lighting.fresnel:2\"))\n",
    "fig.add_trace(go.Cone(x=[8,] * 3, lightposition=dict(x=0, y=0, z=1e5),\n",
    "                                  name=\"lighting.position x:0,y:0,z:1e5\"))\n",
    "\n",
    "fig.update_traces(y=[1, 2, 3], z=[1, 1, 1],\n",
    "                  u=[1, 2, 3], v=[1, 1, 2], w=[4, 4, 1],\n",
    "                  hoverinfo=\"u+v+w+name\",\n",
    "                  showscale=False)\n",
    "\n",
    "fig.update_layout(scene=dict(aspectmode=\"data\",\n",
    "                             camera_eye=dict(x=0.05, y=-2.6, z=2)),\n",
    "                  margin=dict(t=0, b=0, l=0, r=0))\n",
    "\n",
    "\n",
    "fig.show()"
   ]
  },
  {
   "cell_type": "code",
   "execution_count": null,
   "metadata": {
    "collapsed": true
   },
   "outputs": [],
   "source": [
    "import plotly.graph_objects as go\n",
    "import pandas as pd\n",
    "\n",
    "df = pd.read_csv(\"https://raw.githubusercontent.com/plotly/datasets/master/vortex.csv\")\n",
    "\n",
    "fig = go.Figure(data = go.Cone(\n",
    "    x=df['x'],\n",
    "    y=df['y'],\n",
    "    z=df['z'],\n",
    "    u=df['u'],\n",
    "    v=df['v'],\n",
    "    w=df['w'],\n",
    "    colorscale='Blues',\n",
    "    sizemode=\"absolute\",\n",
    "    sizeref=40))\n",
    "\n",
    "fig.update_layout(scene=dict(aspectratio=dict(x=1, y=1, z=0.8),\n",
    "                             camera_eye=dict(x=1.2, y=1.2, z=0.6)))\n",
    "\n",
    "fig.show()"
   ]
  },
  {
   "cell_type": "code",
   "execution_count": null,
   "metadata": {
    "collapsed": true,
    "scrolled": true
   },
   "outputs": [],
   "source": [
    "import plotly.graph_objects as go\n",
    "\n",
    "fig= go.Figure(data=go.Isosurface(\n",
    "    x=[0,0,0,0,1,1,1,1],\n",
    "    y=[1,0,1,0,1,0,1,0],\n",
    "    z=[1,1,0,0,1,1,0,0],\n",
    "    value=[1,2,3,4,5,6,7,8],\n",
    "    isomin=2,\n",
    "    isomax=6,\n",
    "))\n",
    "\n",
    "fig.show()"
   ]
  },
  {
   "cell_type": "code",
   "execution_count": null,
   "metadata": {
    "collapsed": true
   },
   "outputs": [],
   "source": [
    "import plotly.graph_objects as go\n",
    "import numpy as np\n",
    "\n",
    "X, Y, Z = np.mgrid[-5:5:40j, -5:5:40j, -5:5:40j]\n",
    "\n",
    "# ellipsoid\n",
    "values = X * X * 0.5 + Y * Y + Z * Z * 2\n",
    "\n",
    "fig = go.Figure(data=go.Isosurface(\n",
    "    x=X.flatten(),\n",
    "    y=Y.flatten(),\n",
    "    z=Z.flatten(),\n",
    "    value=values.flatten(),\n",
    "    isomin=10,\n",
    "    isomax=40,\n",
    "    caps=dict(x_show=False, y_show=False)\n",
    "    ))\n",
    "fig.show()"
   ]
  },
  {
   "cell_type": "code",
   "execution_count": null,
   "metadata": {
    "collapsed": true
   },
   "outputs": [],
   "source": [
    "import plotly.graph_objects as go\n",
    "import numpy as np\n",
    "\n",
    "X, Y, Z = np.mgrid[-5:5:40j, -5:5:40j, -5:5:40j]\n",
    "\n",
    "# ellipsoid\n",
    "values = X * X * 0.5 + Y * Y + Z * Z * 2\n",
    "\n",
    "fig = go.Figure(data=go.Isosurface(\n",
    "    x=X.flatten(),\n",
    "    y=Y.flatten(),\n",
    "    z=Z.flatten(),\n",
    "    value=values.flatten(),\n",
    "    isomin=10,\n",
    "    isomax=50,\n",
    "    surface_count=5, # number of isosurfaces, 2 by default: only min and max\n",
    "    colorbar_nticks=5, # colorbar ticks correspond to isosurface values\n",
    "    caps=dict(x_show=False, y_show=False)\n",
    "    ))\n",
    "fig.show()"
   ]
  },
  {
   "cell_type": "code",
   "execution_count": null,
   "metadata": {
    "collapsed": true
   },
   "outputs": [],
   "source": [
    "import plotly.graph_objects as go\n",
    "import numpy as np\n",
    "\n",
    "X, Y, Z = np.mgrid[-5:5:40j, -5:5:40j, -5:5:40j]\n",
    "\n",
    "# ellipsoid\n",
    "values = X * X * 0.5 + Y * Y + Z * Z * 2\n",
    "\n",
    "fig = go.Figure(data=go.Isosurface(\n",
    "    x=X.flatten(),\n",
    "    y=Y.flatten(),\n",
    "    z=Z.flatten(),\n",
    "    value=values.flatten(),\n",
    "    opacity=0.6,\n",
    "    isomin=10,\n",
    "    isomax=50,\n",
    "    surface_count=3,\n",
    "    caps=dict(x_show=False, y_show=False)\n",
    "    ))\n",
    "fig.show()"
   ]
  },
  {
   "cell_type": "code",
   "execution_count": null,
   "metadata": {
    "collapsed": true
   },
   "outputs": [],
   "source": [
    "import plotly.graph_objects as go\n",
    "import numpy as np\n",
    "\n",
    "X, Y, Z = np.mgrid[-5:5:40j, -5:5:40j, -5:5:40j]\n",
    "\n",
    "# ellipsoid\n",
    "values = X * X * 0.5 + Y * Y + Z * Z * 2\n",
    "\n",
    "fig = go.Figure(data=go.Isosurface(\n",
    "    x=X.flatten(),\n",
    "    y=Y.flatten(),\n",
    "    z=Z.flatten(),\n",
    "    value=values.flatten(),\n",
    "    isomin=5,\n",
    "    isomax=50,\n",
    "    surface_fill=0.4,\n",
    "    caps=dict(x_show=False, y_show=False),\n",
    "    slices_z=dict(show=True, locations=[-1, -3,]),\n",
    "    slices_y=dict(show=True, locations=[0]),\n",
    "    ))\n",
    "fig.show()"
   ]
  },
  {
   "cell_type": "code",
   "execution_count": null,
   "metadata": {
    "collapsed": true
   },
   "outputs": [],
   "source": [
    "import plotly.graph_objects as go\n",
    "import numpy as np\n",
    "\n",
    "X, Y, Z = np.mgrid[-5:5:40j, -5:5:40j, 0:5:20j]\n",
    "\n",
    "values = X * X * 0.5 + Y * Y + Z * Z * 2\n",
    "\n",
    "fig = go.Figure(data=go.Isosurface(\n",
    "    x=X.flatten(),\n",
    "    y=Y.flatten(),\n",
    "    z=Z.flatten(),\n",
    "    value=values.flatten(),\n",
    "    isomin=30,\n",
    "    isomax=50,\n",
    "    surface=dict(count=3, fill=0.7, pattern='odd'),\n",
    "    caps=dict(x_show=True, y_show=True),\n",
    "    ))\n",
    "fig.show()"
   ]
  },
  {
   "cell_type": "code",
   "execution_count": null,
   "metadata": {
    "collapsed": true
   },
   "outputs": [],
   "source": [
    "import plotly.graph_objects as go\n",
    "import numpy as np\n",
    "\n",
    "X, Y, Z = np.mgrid[-5:5:40j, -5:5:40j, -5:5:40j]\n",
    "\n",
    "# ellipsoid\n",
    "values = X * X * 0.5 + Y * Y + Z * Z * 2\n",
    "\n",
    "fig = go.Figure(data=go.Isosurface(\n",
    "    x=X.flatten(),\n",
    "    y=Y.flatten(),\n",
    "    z=Z.flatten(),\n",
    "    value=values.flatten(),\n",
    "    colorscale='BlueRed',\n",
    "    isomin=10,\n",
    "    isomax=50,\n",
    "    surface_count=3,\n",
    "    caps=dict(x_show=False, y_show=False)\n",
    "    ))\n",
    "fig.show()"
   ]
  },
  {
   "cell_type": "code",
   "execution_count": null,
   "metadata": {
    "collapsed": true
   },
   "outputs": [],
   "source": [
    "import plotly.graph_objects as go\n",
    "import numpy as np\n",
    "\n",
    "X, Y, Z = np.mgrid[-5:5:40j, -5:5:40j, 0:5:20j]\n",
    "\n",
    "values = X * X * 0.5 + Y * Y + Z * Z * 2\n",
    "\n",
    "fig = go.Figure(data=go.Isosurface(\n",
    "    x=X.flatten(),\n",
    "    y=Y.flatten(),\n",
    "    z=Z.flatten(),\n",
    "    value=values.flatten(),\n",
    "    isomin=30,\n",
    "    isomax=50,\n",
    "    surface=dict(count=3, fill=0.7, pattern='odd'),\n",
    "    showscale=False, # remove colorbar\n",
    "    caps=dict(x_show=True, y_show=True),\n",
    "    ))\n",
    "\n",
    "fig.update_layout(\n",
    "    margin=dict(t=0, l=0, b=0), # tight layout\n",
    "    scene_camera_eye=dict(x=1.86, y=0.61, z=0.98))\n",
    "fig.show()"
   ]
  },
  {
   "cell_type": "code",
   "execution_count": null,
   "metadata": {
    "collapsed": true
   },
   "outputs": [],
   "source": [
    "import plotly.graph_objects as go\n",
    "import numpy as np\n",
    "\n",
    "# Download data set from plotly repo\n",
    "pts = np.loadtxt(np.DataSource().open('https://raw.githubusercontent.com/plotly/datasets/master/mesh_dataset.txt'))\n",
    "x, y, z = pts.T\n",
    "\n",
    "fig = go.Figure(data=[go.Mesh3d(x=x, y=y, z=z, color='lightpink', opacity=0.50)])\n",
    "fig.show()"
   ]
  },
  {
   "cell_type": "code",
   "execution_count": null,
   "metadata": {
    "collapsed": true
   },
   "outputs": [],
   "source": [
    "import plotly.graph_objects as go\n",
    "import numpy as np\n",
    "\n",
    "pts = np.loadtxt(np.DataSource().open('https://raw.githubusercontent.com/plotly/datasets/master/mesh_dataset.txt'))\n",
    "x, y, z = pts.T\n",
    "\n",
    "fig = go.Figure(data=[go.Mesh3d(x=x, y=y, z=z,\n",
    "                   alphahull=5,\n",
    "                   opacity=0.4,\n",
    "                   color='cyan')])\n",
    "fig.show()"
   ]
  },
  {
   "cell_type": "code",
   "execution_count": null,
   "metadata": {
    "collapsed": true
   },
   "outputs": [],
   "source": [
    "import plotly.graph_objects as go\n",
    "\n",
    "fig = go.Figure(data=[\n",
    "    go.Mesh3d(\n",
    "        x=[0, 1, 2, 0],\n",
    "        y=[0, 0, 1, 2],\n",
    "        z=[0, 2, 0, 1],\n",
    "        colorbar_title='z',\n",
    "        colorscale=[[0, 'gold'],\n",
    "                    [0.5, 'mediumturquoise'],\n",
    "                    [1, 'magenta']],\n",
    "        # Intensity of each vertex, which will be interpolated and color-coded\n",
    "        intensity=[0, 0.33, 0.66, 1],\n",
    "        # i, j and k give the vertices of triangles\n",
    "        # here we represent the 4 triangles of the tetrahedron surface\n",
    "        i=[0, 0, 0, 1],\n",
    "        j=[1, 2, 3, 2],\n",
    "        k=[2, 3, 1, 3],\n",
    "        name='y',\n",
    "        showscale=True\n",
    "    )\n",
    "])\n",
    "\n",
    "fig.show()"
   ]
  },
  {
   "cell_type": "code",
   "execution_count": null,
   "metadata": {
    "collapsed": true
   },
   "outputs": [],
   "source": [
    "import plotly.graph_objects as go\n",
    "import numpy as np\n",
    "\n",
    "fig = go.Figure(data=[\n",
    "    go.Mesh3d(\n",
    "        # 8 vertices of a cube\n",
    "        x=[0, 0, 1, 1, 0, 0, 1, 1],\n",
    "        y=[0, 1, 1, 0, 0, 1, 1, 0],\n",
    "        z=[0, 0, 0, 0, 1, 1, 1, 1],\n",
    "        colorbar_title='z',\n",
    "        colorscale=[[0, 'gold'],\n",
    "                    [0.5, 'mediumturquoise'],\n",
    "                    [1, 'magenta']],\n",
    "        # Intensity of each vertex, which will be interpolated and color-coded\n",
    "        intensity = np.linspace(0, 1, 8, endpoint=True),\n",
    "        # i, j and k give the vertices of triangles\n",
    "        i = [7, 0, 0, 0, 4, 4, 6, 6, 4, 0, 3, 2],\n",
    "        j = [3, 4, 1, 2, 5, 6, 5, 2, 0, 1, 6, 3],\n",
    "        k = [0, 7, 2, 3, 6, 7, 1, 1, 5, 5, 7, 6],\n",
    "        name='y',\n",
    "        showscale=True\n",
    "    )\n",
    "])\n",
    "\n",
    "fig.show()"
   ]
  },
  {
   "cell_type": "code",
   "execution_count": null,
   "metadata": {
    "collapsed": true
   },
   "outputs": [],
   "source": [
    "import plotly.graph_objects as go\n",
    "fig = go.Figure(data=[\n",
    "    go.Mesh3d(\n",
    "        # 8 vertices of a cube\n",
    "        x=[0, 0, 1, 1, 0, 0, 1, 1],\n",
    "        y=[0, 1, 1, 0, 0, 1, 1, 0],\n",
    "        z=[0, 0, 0, 0, 1, 1, 1, 1],\n",
    "        colorbar_title='z',\n",
    "        colorscale=[[0, 'gold'],\n",
    "                    [0.5, 'mediumturquoise'],\n",
    "                    [1, 'magenta']],\n",
    "        # Intensity of each vertex, which will be interpolated and color-coded\n",
    "        intensity = np.linspace(0, 1, 12, endpoint=True),\n",
    "        intensitymode='cell',\n",
    "        # i, j and k give the vertices of triangles\n",
    "        i = [7, 0, 0, 0, 4, 4, 6, 6, 4, 0, 3, 2],\n",
    "        j = [3, 4, 1, 2, 5, 6, 5, 2, 0, 1, 6, 3],\n",
    "        k = [0, 7, 2, 3, 6, 7, 1, 1, 5, 5, 7, 6],\n",
    "        name='y',\n",
    "        showscale=True\n",
    "    )\n",
    "])\n",
    "\n",
    "fig.show()"
   ]
  },
  {
   "cell_type": "code",
   "execution_count": null,
   "metadata": {
    "collapsed": true
   },
   "outputs": [],
   "source": [
    "import plotly.graph_objects as go\n",
    "from plotly.subplots import make_subplots\n",
    "\n",
    "# Equation of ring cyclide\n",
    "# see https://en.wikipedia.org/wiki/Dupin_cyclide\n",
    "import numpy as np\n",
    "a, b, d = 1.32, 1., 0.8\n",
    "c = a**2 - b**2\n",
    "u, v = np.mgrid[0:2*np.pi:100j, 0:2*np.pi:100j]\n",
    "x = (d * (c - a * np.cos(u) * np.cos(v)) + b**2 * np.cos(u)) / (a - c * np.cos(u) * np.cos(v))\n",
    "y = b * np.sin(u) * (a - d*np.cos(v)) / (a - c * np.cos(u) * np.cos(v))\n",
    "z = b * np.sin(v) * (c*np.cos(u) - d) / (a - c * np.cos(u) * np.cos(v))\n",
    "\n",
    "fig = make_subplots(rows=1, cols=2,\n",
    "                    specs=[[{'is_3d': True}, {'is_3d': True}]],\n",
    "                    subplot_titles=['Color corresponds to z', 'Color corresponds to distance to origin'],\n",
    "                    )\n",
    "\n",
    "fig.add_trace(go.Surface(x=x, y=y, z=z, colorbar_x=-0.07), 1, 1)\n",
    "fig.add_trace(go.Surface(x=x, y=y, z=z, surfacecolor=x**2 + y**2 + z**2), 1, 2)\n",
    "fig.update_layout(title_text=\"Ring cyclide\")\n",
    "fig.show()"
   ]
  },
  {
   "cell_type": "code",
   "execution_count": null,
   "metadata": {
    "collapsed": true
   },
   "outputs": [],
   "source": [
    "import plotly.express as px\n",
    "import plotly.express as px\n",
    "df = px.data.gapminder().query(\"country=='Brazil'\")\n",
    "fig = px.line_3d(df, x=\"gdpPercap\", y=\"pop\", z=\"year\")\n",
    "fig.show()"
   ]
  },
  {
   "cell_type": "code",
   "execution_count": null,
   "metadata": {
    "collapsed": true
   },
   "outputs": [],
   "source": [
    "import plotly.express as px\n",
    "import plotly.express as px\n",
    "df = px.data.gapminder().query(\"continent=='Europe'\")\n",
    "fig = px.line_3d(df, x=\"gdpPercap\", y=\"pop\", z=\"year\", color='country')\n",
    "fig.show()"
   ]
  },
  {
   "cell_type": "code",
   "execution_count": null,
   "metadata": {
    "collapsed": true
   },
   "outputs": [],
   "source": [
    "import plotly.graph_objects as go\n",
    "import pandas as pd\n",
    "import numpy as np\n",
    "\n",
    "rs = np.random.RandomState()\n",
    "rs.seed(0)\n",
    "\n",
    "def brownian_motion(T = 1, N = 100, mu = 0.1, sigma = 0.01, S0 = 20):\n",
    "    dt = float(T)/N\n",
    "    t = np.linspace(0, T, N)\n",
    "    W = rs.standard_normal(size = N)\n",
    "    W = np.cumsum(W)*np.sqrt(dt) # standard brownian motion\n",
    "    X = (mu-0.5*sigma**2)*t + sigma*W\n",
    "    S = S0*np.exp(X) # geometric brownian motion\n",
    "    return S\n",
    "\n",
    "dates = pd.date_range('2012-01-01', '2013-02-22')\n",
    "T = (dates.max()-dates.min()).days / 365\n",
    "N = dates.size\n",
    "start_price = 100\n",
    "y = brownian_motion(T, N, sigma=0.1, S0=start_price)\n",
    "z = brownian_motion(T, N, sigma=0.1, S0=start_price)\n",
    "\n",
    "fig = go.Figure(data=go.Scatter3d(\n",
    "    x=dates, y=y, z=z,\n",
    "    marker=dict(\n",
    "        size=4,\n",
    "        color=z,\n",
    "        colorscale='Viridis',\n",
    "    ),\n",
    "    line=dict(\n",
    "        color='darkblue',\n",
    "        width=2\n",
    "    )\n",
    "))\n",
    "\n",
    "fig.update_layout(\n",
    "    width=800,\n",
    "    height=700,\n",
    "    autosize=False,\n",
    "    scene=dict(\n",
    "        camera=dict(\n",
    "            up=dict(\n",
    "                x=0,\n",
    "                y=0,\n",
    "                z=1\n",
    "            ),\n",
    "            eye=dict(\n",
    "                x=0,\n",
    "                y=1.0707,\n",
    "                z=1,\n",
    "            )\n",
    "        ),\n",
    "        aspectratio = dict( x=1, y=1, z=0.7 ),\n",
    "        aspectmode = 'manual'\n",
    "    ),\n",
    ")\n",
    "\n",
    "fig.show()"
   ]
  },
  {
   "cell_type": "code",
   "execution_count": null,
   "metadata": {
    "collapsed": true
   },
   "outputs": [],
   "source": [
    "import plotly.express as px\n",
    "import numpy as np\n",
    "df = px.data.gapminder()\n",
    "fig = px.scatter_3d(df, x='year', y='continent', z='pop', size='gdpPercap', color='lifeExp',\n",
    "                    hover_data=['country'])\n",
    "fig.update_layout(scene_zaxis_type=\"log\")\n",
    "fig.show()"
   ]
  },
  {
   "cell_type": "code",
   "execution_count": null,
   "metadata": {
    "collapsed": true
   },
   "outputs": [],
   "source": [
    "import plotly.graph_objects as go\n",
    "\n",
    "import pandas as pd\n",
    "\n",
    "# Get Data: this ex will only use part of it (i.e. rows 750-1500)\n",
    "df = pd.read_csv('https://raw.githubusercontent.com/plotly/datasets/master/gapminderDataFiveYear.csv')\n",
    "\n",
    "start, end = 750, 1500\n",
    "\n",
    "fig = go.Figure(data=go.Scatter3d(\n",
    "    x=df['year'][start:end],\n",
    "    y=df['continent'][start:end],\n",
    "    z=df['pop'][start:end],\n",
    "    text=df['country'][start:end],\n",
    "    mode='markers',\n",
    "    marker=dict(\n",
    "        sizemode='diameter',\n",
    "        sizeref=750,\n",
    "        size=df['gdpPercap'][start:end],\n",
    "        color = df['lifeExp'][start:end],\n",
    "        colorscale = 'Viridis',\n",
    "        colorbar_title = 'Life<br>Expectancy',\n",
    "        line_color='rgb(140, 140, 170)'\n",
    "    )\n",
    "))\n",
    "\n",
    "\n",
    "fig.update_layout(height=800, width=800,\n",
    "                  title='Examining Population and Life Expectancy Over Time')\n",
    "\n",
    "fig.show()"
   ]
  },
  {
   "cell_type": "code",
   "execution_count": null,
   "metadata": {
    "collapsed": true
   },
   "outputs": [],
   "source": [
    "import plotly.graph_objects as go\n",
    "\n",
    "planets = ['Mercury', 'Venus', 'Earth', 'Mars', 'Jupiter', 'Saturn', 'Uranus', 'Neptune', 'Pluto']\n",
    "planet_colors = ['rgb(135, 135, 125)', 'rgb(210, 50, 0)', 'rgb(50, 90, 255)',\n",
    "                 'rgb(178, 0, 0)', 'rgb(235, 235, 210)', 'rgb(235, 205, 130)',\n",
    "                 'rgb(55, 255, 217)', 'rgb(38, 0, 171)', 'rgb(255, 255, 255)']\n",
    "distance_from_sun = [57.9, 108.2, 149.6, 227.9, 778.6, 1433.5, 2872.5, 4495.1, 5906.4]\n",
    "density = [5427, 5243, 5514, 3933, 1326, 687, 1271, 1638, 2095]\n",
    "gravity = [3.7, 8.9, 9.8, 3.7, 23.1, 9.0, 8.7, 11.0, 0.7]\n",
    "planet_diameter = [4879, 12104, 12756, 6792, 142984, 120536, 51118, 49528, 2370]\n",
    "\n",
    "# Create trace, sizing bubbles by planet diameter\n",
    "fig = go.Figure(data=go.Scatter3d(\n",
    "    x = distance_from_sun,\n",
    "    y = density,\n",
    "    z = gravity,\n",
    "    text = planets,\n",
    "    mode = 'markers',\n",
    "    marker = dict(\n",
    "        sizemode = 'diameter',\n",
    "        sizeref = 750, # info on sizeref: https://plotly.com/python/reference/#scatter-marker-sizeref\n",
    "        size = planet_diameter,\n",
    "        color = planet_colors,\n",
    "        )\n",
    "))\n",
    "\n",
    "fig.update_layout(width=800, height=800, title = 'Planets!',\n",
    "                  scene = dict(xaxis=dict(title='Distance from Sun', titlefont_color='white'),\n",
    "                               yaxis=dict(title='Density', titlefont_color='white'),\n",
    "                               zaxis=dict(title='Gravity', titlefont_color='white'),\n",
    "                               bgcolor = 'rgb(20, 24, 54)'\n",
    "                           ))\n",
    "\n",
    "fig.show()"
   ]
  },
  {
   "cell_type": "code",
   "execution_count": null,
   "metadata": {
    "collapsed": true
   },
   "outputs": [],
   "source": [
    "import plotly.graph_objects as go\n",
    "\n",
    "planets = ['Mercury', 'Venus', 'Earth', 'Mars', 'Jupiter', 'Saturn', 'Uranus', 'Neptune', 'Pluto']\n",
    "temperatures = [167, 464, 15, -20, -65, -110, -140, -195, -200, -225]\n",
    "distance_from_sun = [57.9, 108.2, 149.6, 227.9, 778.6, 1433.5, 2872.5, 4495.1, 5906.4]\n",
    "density = [5427, 5243, 5514, 3933, 1326, 687, 1271, 1638, 2095]\n",
    "gravity = [3.7, 8.9, 9.8, 3.7, 23.1, 9.0, 8.7, 11.0, 0.7]\n",
    "planet_diameter = [4879, 12104, 12756, 6792, 142984, 120536, 51118, 49528, 2370]\n",
    "\n",
    "# Create trace, sizing bubbles by planet diameter\n",
    "fig = go.Figure(go.Scatter3d(\n",
    "    x = distance_from_sun,\n",
    "    y = density,\n",
    "    z = gravity,\n",
    "    text = planets,\n",
    "    mode = 'markers',\n",
    "    marker = dict(\n",
    "        sizemode = 'diameter',\n",
    "        sizeref = 750, # info on sizeref: https://plotly.com/python/reference/#scatter-marker-sizeref\n",
    "        size = planet_diameter,\n",
    "        color = temperatures,\n",
    "        colorbar_title = 'Mean<br>Temperature',\n",
    "        colorscale=[[0, 'rgb(5, 10, 172)'], [.3, 'rgb(255, 255, 255)'], [1, 'rgb(178, 10, 28)']]\n",
    "        )\n",
    "))\n",
    "\n",
    "fig.update_layout(width=800, height=800, title = 'Planets!',\n",
    "                  scene = dict(xaxis=dict(title='Distance from Sun', titlefont_color='white'),\n",
    "                               yaxis=dict(title='Density', titlefont_color='white'),\n",
    "                               zaxis=dict(title='Gravity', titlefont_color='white'),\n",
    "                               bgcolor = 'rgb(20, 24, 54)'\n",
    "                           ))\n",
    "\n",
    "fig.show()"
   ]
  },
  {
   "cell_type": "code",
   "execution_count": null,
   "metadata": {
    "collapsed": true
   },
   "outputs": [],
   "source": [
    "import plotly.graph_objects as go\n",
    "import pandas as pd\n",
    "\n",
    "# Read data from a csv\n",
    "z_data = pd.read_csv('https://raw.githubusercontent.com/plotly/datasets/master/api_docs/mt_bruno_elevation.csv')\n",
    "\n",
    "fig = go.Figure(data=go.Surface(z=z_data, showscale=False))\n",
    "fig.update_layout(\n",
    "    title='Mt Bruno Elevation',\n",
    "    width=400, height=400,\n",
    "    margin=dict(t=40, r=0, l=20, b=20)\n",
    ")\n",
    "\n",
    "name = 'default'\n",
    "# Default parameters which are used when `layout.scene.camera` is not provided\n",
    "camera = dict(\n",
    "    up=dict(x=0, y=0, z=1),\n",
    "    center=dict(x=0, y=0, z=0),\n",
    "    eye=dict(x=1.25, y=1.25, z=1.25)\n",
    ")\n",
    "\n",
    "fig.update_layout(scene_camera=camera, title=name)\n",
    "fig.show()"
   ]
  },
  {
   "cell_type": "code",
   "execution_count": null,
   "metadata": {
    "collapsed": true
   },
   "outputs": [],
   "source": [
    "import plotly.graph_objects as go\n",
    "import pandas as pd\n",
    "\n",
    "# Read data from a csv\n",
    "z_data = pd.read_csv('https://raw.githubusercontent.com/plotly/datasets/master/api_docs/mt_bruno_elevation.csv')\n",
    "\n",
    "fig = go.Figure(data=go.Surface(z=z_data, showscale=False))\n",
    "fig.update_layout(\n",
    "    title='Mt Bruno Elevation',\n",
    "    width=400, height=400,\n",
    "    margin=dict(t=30, r=0, l=20, b=10)\n",
    ")\n",
    "\n",
    "name = 'eye = (x:2, y:2, z:0.1)'\n",
    "camera = dict(\n",
    "    eye=dict(x=2, y=2, z=0.1)\n",
    ")\n",
    "\n",
    "fig.update_layout(scene_camera=camera, title=name)\n",
    "fig.show()"
   ]
  },
  {
   "cell_type": "code",
   "execution_count": null,
   "metadata": {
    "collapsed": true
   },
   "outputs": [],
   "source": [
    "import plotly.graph_objects as go\n",
    "import pandas as pd\n",
    "\n",
    "# Read data from a csv\n",
    "z_data = pd.read_csv('https://raw.githubusercontent.com/plotly/datasets/master/api_docs/mt_bruno_elevation.csv')\n",
    "\n",
    "fig = go.Figure(data=go.Surface(z=z_data, showscale=False))\n",
    "fig.update_layout(\n",
    "    title='Mt Bruno Elevation',\n",
    "    width=400, height=400,\n",
    "    margin=dict(t=30, r=0, l=20, b=10)\n",
    ")\n",
    "\n",
    "name = 'eye = (x:0., y:2.5, z:0.)'\n",
    "camera = dict(\n",
    "    eye=dict(x=0., y=2.5, z=0.)\n",
    ")\n",
    "\n",
    "\n",
    "fig.update_layout(scene_camera=camera, title=name)\n",
    "fig.show()"
   ]
  },
  {
   "cell_type": "code",
   "execution_count": null,
   "metadata": {
    "collapsed": true
   },
   "outputs": [],
   "source": [
    "import plotly.graph_objects as go\n",
    "import numpy as np\n",
    "X, Y, Z = np.mgrid[-8:8:40j, -8:8:40j, -8:8:40j]\n",
    "values = np.sin(X*Y*Z) / (X*Y*Z)\n",
    "\n",
    "fig = go.Figure(data=go.Volume(\n",
    "    x=X.flatten(),\n",
    "    y=Y.flatten(),\n",
    "    z=Z.flatten(),\n",
    "    value=values.flatten(),\n",
    "    isomin=0.1,\n",
    "    isomax=0.8,\n",
    "    opacity=0.1, # needs to be small to see through all surfaces\n",
    "    surface_count=17, # needs to be a large number for good volume rendering\n",
    "    ))\n",
    "fig.show()"
   ]
  },
  {
   "cell_type": "code",
   "execution_count": null,
   "metadata": {
    "collapsed": true
   },
   "outputs": [],
   "source": [
    "import plotly.graph_objects as go\n",
    "import numpy as np\n",
    "X, Y, Z = np.mgrid[-1:1:30j, -1:1:30j, -1:1:30j]\n",
    "values =    np.sin(np.pi*X) * np.cos(np.pi*Z) * np.sin(np.pi*Y)\n",
    "\n",
    "fig = go.Figure(data=go.Volume(\n",
    "    x=X.flatten(),\n",
    "    y=Y.flatten(),\n",
    "    z=Z.flatten(),\n",
    "    value=values.flatten(),\n",
    "    isomin=-0.1,\n",
    "    isomax=0.8,\n",
    "    opacity=0.1, # needs to be small to see through all surfaces\n",
    "    surface_count=21, # needs to be a large number for good volume rendering\n",
    "    ))\n",
    "fig.show()"
   ]
  },
  {
   "cell_type": "code",
   "execution_count": null,
   "metadata": {
    "collapsed": true
   },
   "outputs": [],
   "source": [
    "import plotly.graph_objects as go\n",
    "import pandas as pd\n",
    "\n",
    "# Read data from a csv\n",
    "z_data = pd.read_csv('https://raw.githubusercontent.com/plotly/datasets/master/api_docs/mt_bruno_elevation.csv')\n",
    "\n",
    "fig = go.Figure(data=go.Surface(z=z_data, showscale=False))\n",
    "fig.update_layout(\n",
    "    title='Mt Bruno Elevation',\n",
    "    width=400, height=400,\n",
    "    margin=dict(t=30, r=0, l=20, b=10)\n",
    ")\n",
    "\n",
    "name = 'eye = (x:2.5, y:0., z:0.)'\n",
    "camera = dict(\n",
    "    eye=dict(x=2.5, y=0., z=0.)\n",
    ")\n",
    "\n",
    "fig.update_layout(scene_camera=camera, title=name)\n",
    "fig.show()"
   ]
  },
  {
   "cell_type": "code",
   "execution_count": null,
   "metadata": {
    "collapsed": true
   },
   "outputs": [],
   "source": [
    "import plotly.graph_objects as go\n",
    "import pandas as pd\n",
    "\n",
    "# Read data from a csv\n",
    "z_data = pd.read_csv('https://raw.githubusercontent.com/plotly/datasets/master/api_docs/mt_bruno_elevation.csv')\n",
    "\n",
    "fig = go.Figure(data=go.Surface(z=z_data, showscale=False))\n",
    "fig.update_layout(\n",
    "    title='Mt Bruno Elevation',\n",
    "    width=400, height=400,\n",
    "    margin=dict(t=30, r=0, l=20, b=10)\n",
    ")\n",
    "\n",
    "name = 'eye = (x:0., y:0., z:2.5)'\n",
    "camera = dict(\n",
    "    eye=dict(x=0., y=0., z=2.5)\n",
    ")\n",
    "\n",
    "fig.update_layout(scene_camera=camera, title=name)\n",
    "fig.show()"
   ]
  },
  {
   "cell_type": "code",
   "execution_count": null,
   "metadata": {
    "collapsed": true
   },
   "outputs": [],
   "source": [
    "import plotly.graph_objects as go\n",
    "import pandas as pd\n",
    "\n",
    "# Read data from a csv\n",
    "z_data = pd.read_csv('https://raw.githubusercontent.com/plotly/datasets/master/api_docs/mt_bruno_elevation.csv')\n",
    "\n",
    "fig = go.Figure(data=go.Surface(z=z_data, showscale=False))\n",
    "fig.update_layout(\n",
    "    title='Mt Bruno Elevation',\n",
    "    width=400, height=400,\n",
    "    margin=dict(t=30, r=0, l=20, b=10)\n",
    ")\n",
    "\n",
    "name = 'eye = (x:0.1, y:0.1, z:1.5)'\n",
    "camera = dict(\n",
    "    eye=dict(x=0.1, y=0.1, z=1.5)\n",
    ")\n",
    "\n",
    "fig.update_layout(scene_camera=camera, title=name)\n",
    "fig.show()"
   ]
  },
  {
   "cell_type": "code",
   "execution_count": null,
   "metadata": {
    "collapsed": true
   },
   "outputs": [],
   "source": [
    "import plotly.graph_objects as go\n",
    "import pandas as pd\n",
    "\n",
    "# Read data from a csv\n",
    "z_data = pd.read_csv('https://raw.githubusercontent.com/plotly/datasets/master/api_docs/mt_bruno_elevation.csv')\n",
    "\n",
    "fig = go.Figure(data=go.Surface(z=z_data, showscale=False))\n",
    "fig.update_layout(\n",
    "    title='Mt Bruno Elevation',\n",
    "    width=400, height=400,\n",
    "    margin=dict(t=30, r=0, l=20, b=10)\n",
    ")\n",
    "\n",
    "name = 'eye = (x:0., y:2.5, z:0.), point along x'\n",
    "camera = dict(\n",
    "    up=dict(x=1, y=0., z=0),\n",
    "    eye=dict(x=0., y=2.5, z=0.)\n",
    ")\n",
    "\n",
    "fig.update_layout(scene_camera=camera, title=name)\n",
    "fig.show()"
   ]
  },
  {
   "cell_type": "code",
   "execution_count": null,
   "metadata": {
    "collapsed": true
   },
   "outputs": [],
   "source": [
    "import math\n",
    "import plotly.graph_objects as go\n",
    "import pandas as pd\n",
    "\n",
    "# Read data from a csv\n",
    "z_data = pd.read_csv('https://raw.githubusercontent.com/plotly/datasets/master/api_docs/mt_bruno_elevation.csv')\n",
    "\n",
    "fig = go.Figure(data=go.Surface(z=z_data, showscale=False))\n",
    "fig.update_layout(\n",
    "    title='Mt Bruno Elevation',\n",
    "    width=400, height=400,\n",
    "    margin=dict(t=30, r=0, l=20, b=10)\n",
    ")\n",
    "\n",
    "angle = math.pi / 4 # 45 degrees\n",
    "\n",
    "name = 'vertical is along y+z'\n",
    "camera = dict(\n",
    "    up=dict(x=0, y=math.cos(angle), z=math.sin(angle)),\n",
    "    eye=dict(x=2, y=0, z=0)\n",
    ")\n",
    "\n",
    "fig.update_layout(scene_camera=camera, scene_dragmode='orbit', title=name)\n",
    "fig.show()"
   ]
  },
  {
   "cell_type": "code",
   "execution_count": null,
   "metadata": {
    "collapsed": true
   },
   "outputs": [],
   "source": [
    "import plotly.graph_objects as go\n",
    "import pandas as pd\n",
    "\n",
    "# Read data from a csv\n",
    "z_data = pd.read_csv('https://raw.githubusercontent.com/plotly/datasets/master/api_docs/mt_bruno_elevation.csv')\n",
    "\n",
    "fig = go.Figure(data=go.Surface(z=z_data, showscale=False))\n",
    "fig.update_layout(\n",
    "    title='Mt Bruno Elevation',\n",
    "    width=400, height=400,\n",
    "    margin=dict(t=25, r=0, l=20, b=30)\n",
    ")\n",
    "\n",
    "name = 'looking up'\n",
    "camera = dict(\n",
    "    center=dict(x=0, y=0, z=0.7))\n",
    "\n",
    "\n",
    "fig.update_layout(scene_camera=camera, title=name)\n",
    "fig.show()"
   ]
  },
  {
   "cell_type": "code",
   "execution_count": null,
   "metadata": {
    "collapsed": true
   },
   "outputs": [],
   "source": [
    "import plotly.graph_objects as go\n",
    "from plotly.subplots import make_subplots\n",
    "\n",
    "import numpy as np\n",
    "\n",
    "# Initialize figure with 4 3D subplots\n",
    "fig = make_subplots(\n",
    "    rows=2, cols=2,\n",
    "    specs=[[{'type': 'surface'}, {'type': 'surface'}],\n",
    "           [{'type': 'surface'}, {'type': 'surface'}]])\n",
    "\n",
    "# Generate data\n",
    "x = np.linspace(-5, 80, 10)\n",
    "y = np.linspace(-5, 60, 10)\n",
    "xGrid, yGrid = np.meshgrid(y, x)\n",
    "z = xGrid ** 3 + yGrid ** 3\n",
    "\n",
    "# adding surfaces to subplots.\n",
    "fig.add_trace(\n",
    "    go.Surface(x=x, y=y, z=z, colorscale='Viridis', showscale=False),\n",
    "    row=1, col=1)\n",
    "\n",
    "fig.add_trace(\n",
    "    go.Surface(x=x, y=y, z=z, colorscale='RdBu', showscale=False),\n",
    "    row=1, col=2)\n",
    "\n",
    "fig.add_trace(\n",
    "    go.Surface(x=x, y=y, z=z, colorscale='YlOrRd', showscale=False),\n",
    "    row=2, col=1)\n",
    "\n",
    "fig.add_trace(\n",
    "    go.Surface(x=x, y=y, z=z, colorscale='YlGnBu', showscale=False),\n",
    "    row=2, col=2)\n",
    "\n",
    "fig.update_layout(\n",
    "    title_text='3D subplots with different colorscales',\n",
    "    height=800,\n",
    "    width=800\n",
    ")\n",
    "\n",
    "fig.show()"
   ]
  },
  {
   "cell_type": "code",
   "execution_count": null,
   "metadata": {
    "collapsed": true
   },
   "outputs": [],
   "source": [
    "import numpy as np\n",
    "import plotly.graph_objects as go\n",
    "\n",
    "# Generate nicely looking random 3D-field\n",
    "np.random.seed(0)\n",
    "l = 30\n",
    "X, Y, Z = np.mgrid[:l, :l, :l]\n",
    "vol = np.zeros((l, l, l))\n",
    "pts = (l * np.random.rand(3, 15)).astype(np.int)\n",
    "vol[tuple(indices for indices in pts)] = 1\n",
    "from scipy import ndimage\n",
    "vol = ndimage.gaussian_filter(vol, 4)\n",
    "vol /= vol.max()\n",
    "\n",
    "fig = go.Figure(data=go.Volume(\n",
    "    x=X.flatten(), y=Y.flatten(), z=Z.flatten(),\n",
    "    value=vol.flatten(),\n",
    "    isomin=0.2,\n",
    "    isomax=0.7,\n",
    "    opacity=0.1,\n",
    "    surface_count=25,\n",
    "    ))\n",
    "fig.update_layout(scene_xaxis_showticklabels=False,\n",
    "                  scene_yaxis_showticklabels=False,\n",
    "                  scene_zaxis_showticklabels=False)\n",
    "fig.show()"
   ]
  },
  {
   "cell_type": "code",
   "execution_count": null,
   "metadata": {
    "collapsed": true
   },
   "outputs": [],
   "source": [
    "import plotly.graph_objects as go\n",
    "from plotly.subplots import make_subplots\n",
    "fig = make_subplots(\n",
    "    rows=2, cols=2,\n",
    "    specs=[[{'type': 'volume'}, {'type': 'volume'}],\n",
    "           [{'type': 'volume'}, {'type': 'volume'}]])\n",
    "\n",
    "import numpy as np\n",
    "\n",
    "X, Y, Z = np.mgrid[-8:8:30j, -8:8:30j, -8:8:30j]\n",
    "values =    np.sin(X*Y*Z) / (X*Y*Z)\n",
    "\n",
    "\n",
    "fig.add_trace(go.Volume(\n",
    "    opacityscale=\"uniform\",\n",
    "    ), row=1, col=1)\n",
    "fig.add_trace(go.Volume(\n",
    "    opacityscale=\"extremes\",\n",
    "    ), row=1, col=2)\n",
    "fig.add_trace(go.Volume(\n",
    "    opacityscale=\"min\",\n",
    "    ), row=2, col=1)\n",
    "fig.add_trace(go.Volume(\n",
    "    opacityscale=\"max\",\n",
    "    ), row=2, col=2)\n",
    "fig.update_traces(x=X.flatten(), y=Y.flatten(), z=Z.flatten(), value=values.flatten(),\n",
    "    isomin=0.15, isomax=0.9, opacity=0.1, surface_count=15)\n",
    "fig.show()"
   ]
  },
  {
   "cell_type": "code",
   "execution_count": null,
   "metadata": {
    "collapsed": true
   },
   "outputs": [],
   "source": [
    "import plotly.graph_objects as go\n",
    "import numpy as np\n",
    "X, Y, Z = np.mgrid[-1:1:30j, -1:1:30j, -1:1:30j]\n",
    "values =    np.sin(np.pi*X) * np.cos(np.pi*Z) * np.sin(np.pi*Y)\n",
    "\n",
    "fig = go.Figure(data=go.Volume(\n",
    "    x=X.flatten(),\n",
    "    y=Y.flatten(),\n",
    "    z=Z.flatten(),\n",
    "    value=values.flatten(),\n",
    "    isomin=-0.5,\n",
    "    isomax=0.5,\n",
    "    opacity=0.1, # max opacity\n",
    "    opacityscale=[[-0.5, 1], [-0.2, 0], [0.2, 0], [0.5, 1]],\n",
    "    surface_count=21,\n",
    "    colorscale='RdBu'\n",
    "    ))\n",
    "fig.show()"
   ]
  },
  {
   "cell_type": "code",
   "execution_count": null,
   "metadata": {
    "collapsed": true
   },
   "outputs": [],
   "source": [
    "import numpy as np\n",
    "import plotly.graph_objects as go\n",
    "\n",
    "\n",
    "X, Y, Z = np.mgrid[:1:20j, :1:20j, :1:20j]\n",
    "vol = (X - 1)**2 + (Y - 1)**2 + Z**2\n",
    "\n",
    "\n",
    "fig = go.Figure(data=go.Volume(\n",
    "    x=X.flatten(), y=Y.flatten(), z=Z.flatten(),\n",
    "    value=vol.flatten(),\n",
    "    isomin=0.2,\n",
    "    isomax=0.7,\n",
    "    opacity=0.2,\n",
    "    surface_count=21,\n",
    "    caps= dict(x_show=True, y_show=True, z_show=True, x_fill=1), # with caps (default mode)\n",
    "    ))\n",
    "\n",
    "# Change camera view for a better view of the sides, XZ plane\n",
    "# (see https://plotly.com/python/v3/3d-camera-controls/)\n",
    "fig.update_layout(scene_camera = dict(\n",
    "    up=dict(x=0, y=0, z=1),\n",
    "    center=dict(x=0, y=0, z=0),\n",
    "    eye=dict(x=0.1, y=2.5, z=0.1)\n",
    "))\n",
    "\n",
    "fig.show()"
   ]
  },
  {
   "cell_type": "code",
   "execution_count": null,
   "metadata": {
    "collapsed": true
   },
   "outputs": [],
   "source": [
    "import numpy as np\n",
    "import plotly.graph_objects as go\n",
    "\n",
    "X, Y, Z = np.mgrid[:1:20j, :1:20j, :1:20j]\n",
    "vol = (X - 1)**2 + (Y - 1)**2 + Z**2\n",
    "\n",
    "\n",
    "fig = go.Figure(data=go.Volume(\n",
    "    x=X.flatten(), y=Y.flatten(), z=Z.flatten(),\n",
    "    value=vol.flatten(),\n",
    "    isomin=0.2,\n",
    "    isomax=0.7,\n",
    "    opacity=0.2,\n",
    "    surface_count=21,\n",
    "    caps= dict(x_show=False, y_show=False, z_show=False), # no caps\n",
    "    ))\n",
    "fig.update_layout(scene_camera = dict(\n",
    "    up=dict(x=0, y=0, z=1),\n",
    "    center=dict(x=0, y=0, z=0),\n",
    "    eye=dict(x=0.1, y=2.5, z=0.1)\n",
    "))\n",
    "\n",
    "fig.show()"
   ]
  },
  {
   "cell_type": "code",
   "execution_count": null,
   "metadata": {
    "collapsed": true
   },
   "outputs": [],
   "source": [
    "import numpy as np\n",
    "import plotly.graph_objects as go\n",
    "\n",
    "X, Y, Z = np.mgrid[:1:20j, :1:20j, :1:20j]\n",
    "vol = (X - 1)**2 + (Y - 1)**2 + Z**2\n",
    "\n",
    "\n",
    "fig = go.Figure(data=go.Volume(\n",
    "    x=X.flatten(), y=Y.flatten(), z=Z.flatten(),\n",
    "    value=vol.flatten(),\n",
    "    isomin=0.2,\n",
    "    isomax=0.7,\n",
    "    opacity=0.2,\n",
    "    surface_count=21,\n",
    "    slices_z=dict(show=True, locations=[0.4]),\n",
    "    surface=dict(fill=0.5, pattern='odd'),\n",
    "    caps= dict(x_show=False, y_show=False, z_show=False), # no caps\n",
    "    ))\n",
    "\n",
    "fig.show()"
   ]
  },
  {
   "cell_type": "code",
   "execution_count": null,
   "metadata": {
    "collapsed": true
   },
   "outputs": [],
   "source": [
    "import plotly.graph_objects as go\n",
    "import numpy as np\n",
    "np.random.seed(1)\n",
    "\n",
    "N = 70\n",
    "\n",
    "fig = go.Figure(data=[go.Mesh3d(x=(70*np.random.randn(N)),\n",
    "                   y=(55*np.random.randn(N)),\n",
    "                   z=(40*np.random.randn(N)),\n",
    "                   opacity=0.5,\n",
    "                   color='rgba(244,22,100,0.6)'\n",
    "                  )])\n",
    "\n",
    "fig.update_layout(\n",
    "    scene = dict(\n",
    "        xaxis = dict(nticks=4, range=[-100,100],),\n",
    "                     yaxis = dict(nticks=4, range=[-50,100],),\n",
    "                     zaxis = dict(nticks=4, range=[-100,100],),),\n",
    "    width=700,\n",
    "    margin=dict(r=20, l=10, b=10, t=10))\n",
    "\n",
    "fig.show()"
   ]
  },
  {
   "cell_type": "code",
   "execution_count": null,
   "metadata": {
    "collapsed": true
   },
   "outputs": [],
   "source": [
    "import plotly.graph_objects as go\n",
    "from plotly.subplots import make_subplots\n",
    "import numpy as np\n",
    "\n",
    "N = 50\n",
    "\n",
    "fig = make_subplots(rows=2, cols=2,\n",
    "                    specs=[[{'is_3d': True}, {'is_3d': True}],\n",
    "                           [{'is_3d': True}, {'is_3d': True}]],\n",
    "                    print_grid=False)\n",
    "for i in [1,2]:\n",
    "    for j in [1,2]:\n",
    "        fig.append_trace(\n",
    "            go.Mesh3d(\n",
    "                x=(60*np.random.randn(N)),\n",
    "                y=(25*np.random.randn(N)),\n",
    "                z=(40*np.random.randn(N)),\n",
    "                opacity=0.5,\n",
    "              ),\n",
    "            row=i, col=j)\n",
    "\n",
    "fig.update_layout(width=700, margin=dict(r=10, l=10, b=10, t=10))\n",
    "# fix the ratio in the top left subplot to be a cube\n",
    "fig.update_layout(scene_aspectmode='cube')\n",
    "# manually force the z-axis to appear twice as big as the other two\n",
    "fig.update_layout(scene2_aspectmode='manual',\n",
    "                  scene2_aspectratio=dict(x=1, y=1, z=2))\n",
    "# draw axes in proportion to the proportion of their ranges\n",
    "fig.update_layout(scene3_aspectmode='data')\n",
    "# automatically produce something that is well proportioned using 'data' as the default\n",
    "fig.update_layout(scene4_aspectmode='auto')\n",
    "fig.show()"
   ]
  }
 ],
 "metadata": {
  "kernelspec": {
   "display_name": "Python 3",
   "language": "python",
   "name": "python3"
  },
  "language_info": {
   "codemirror_mode": {
    "name": "ipython",
    "version": 3
   },
   "file_extension": ".py",
   "mimetype": "text/x-python",
   "name": "python",
   "nbconvert_exporter": "python",
   "pygments_lexer": "ipython3",
   "version": "3.6.3"
  }
 },
 "nbformat": 4,
 "nbformat_minor": 2
}
