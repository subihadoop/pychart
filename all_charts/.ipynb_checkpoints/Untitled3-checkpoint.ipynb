{
 "cells": [
  {
   "cell_type": "code",
   "execution_count": 14,
   "metadata": {},
   "outputs": [
    {
     "ename": "SyntaxError",
     "evalue": "Missing parentheses in call to 'print'. Did you mean print(int \"var\", var)? (__init__.py, line 69)",
     "output_type": "error",
     "traceback": [
      "Traceback \u001b[0;36m(most recent call last)\u001b[0m:\n",
      "  File \u001b[1;32m\"/home/subir/anaconda3/lib/python3.6/site-packages/IPython/core/interactiveshell.py\"\u001b[0m, line \u001b[1;32m2862\u001b[0m, in \u001b[1;35mrun_code\u001b[0m\n    exec(code_obj, self.user_global_ns, self.user_ns)\n",
      "\u001b[0;36m  File \u001b[0;32m\"<ipython-input-14-c0c2f8338c8c>\"\u001b[0;36m, line \u001b[0;32m7\u001b[0;36m, in \u001b[0;35m<module>\u001b[0;36m\u001b[0m\n\u001b[0;31m    from db import mysql\u001b[0m\n",
      "\u001b[0;36m  File \u001b[0;32m\"/home/subir/anaconda3/lib/python3.6/site-packages/db/__init__.py\"\u001b[0;36m, line \u001b[0;32m69\u001b[0m\n\u001b[0;31m    print \"var\", var\u001b[0m\n\u001b[0m              ^\u001b[0m\n\u001b[0;31mSyntaxError\u001b[0m\u001b[0;31m:\u001b[0m Missing parentheses in call to 'print'. Did you mean print(int \"var\", var)?\n"
     ]
    }
   ],
   "source": [
    "from app import app\n",
    "from flaskext.mysql import MySQL\n",
    "import io\n",
    "import xlwt\n",
    "import pymysql\n",
    "#from app import app\n",
    "from db import mysql\n",
    "from flask import Flask, Response, render_template\n",
    "\n",
    "\n",
    "mysql = MySQL()\n",
    " \n",
    "# MySQL configurations\n",
    "app.config['MYSQL_DATABASE_USER'] = 'root'\n",
    "app.config['MYSQL_DATABASE_PASSWORD'] = 'root'\n",
    "app.config['MYSQL_DATABASE_DB'] = 'roytuts'\n",
    "app.config['MYSQL_DATABASE_HOST'] = 'localhost'\n",
    "mysql.init_app(app)\n",
    "\n",
    "\n",
    "@app.route('/')\n",
    "def upload_form():\n",
    "    return render_template('download.html')\n",
    "\n",
    "@app.route('/download/report/excel')\n",
    "def download_report():\n",
    "    conn = None\n",
    "    cursor = None\n",
    "    try:\n",
    "        conn = mysql.connect()\n",
    "        cursor = conn.cursor(pymysql.cursors.DictCursor)\n",
    "\n",
    "        cursor.execute(\"SELECT emp_id, emp_first_name, emp_last_name, emp_designation FROM employee\")\n",
    "        result = cursor.fetchall()\n",
    "\n",
    "        #output in bytes\n",
    "        output = io.BytesIO()\n",
    "            #create WorkBook object\n",
    "        workbook = xlwt.Workbook()\n",
    "        #add a sheet\n",
    "        sh = workbook.add_sheet('Employee Report')\n",
    "        \n",
    "        #add headers\n",
    "        sh.write(0, 0, 'Emp Id')\n",
    "        sh.write(0, 1, 'Emp First Name')\n",
    "        sh.write(0, 2, 'Emp Last Name')\n",
    "        sh.write(0, 3, 'Designation')\n",
    "        \n",
    "        idx = 0\n",
    "        \n",
    "        for row in result:\n",
    "            sh.write(idx+1, 0, str(row['emp_id']))\n",
    "            sh.write(idx+1, 1, row['emp_first_name'])\n",
    "            sh.write(idx+1, 2, row['emp_last_name'])\n",
    "            sh.write(idx+1, 3, row['emp_designation'])\n",
    "            idx += 1\n",
    "\n",
    "        workbook.save(output)\n",
    "        output.seek(0)\n",
    "        \n",
    "        return Response(output, mimetype=\"application/ms-excel\", \n",
    "                        headers={\"Content-Disposition\":\"attachment;filename=employee_report.xls\"})\n",
    "    except Exception as e:\n",
    "        print('No')\n",
    "    finally:\n",
    "        cursor.close() \n",
    "        conn.close()\n",
    "if __name__ == \"__main__\":\n",
    "    app.run()"
   ]
  },
  {
   "cell_type": "code",
   "execution_count": 15,
   "metadata": {},
   "outputs": [
    {
     "ename": "ModuleNotFoundError",
     "evalue": "No module named 'app'",
     "output_type": "error",
     "traceback": [
      "\u001b[0;31m---------------------------------------------------------------------------\u001b[0m",
      "\u001b[0;31mModuleNotFoundError\u001b[0m                       Traceback (most recent call last)",
      "\u001b[0;32m<ipython-input-15-3f662bf3599f>\u001b[0m in \u001b[0;36m<module>\u001b[0;34m()\u001b[0m\n\u001b[0;32m----> 1\u001b[0;31m \u001b[0;32mfrom\u001b[0m \u001b[0mapp\u001b[0m \u001b[0;32mimport\u001b[0m \u001b[0mapp\u001b[0m\u001b[0;34m\u001b[0m\u001b[0m\n\u001b[0m\u001b[1;32m      2\u001b[0m \u001b[0;32mfrom\u001b[0m \u001b[0mflaskext\u001b[0m\u001b[0;34m.\u001b[0m\u001b[0mmysql\u001b[0m \u001b[0;32mimport\u001b[0m \u001b[0mMySQL\u001b[0m\u001b[0;34m\u001b[0m\u001b[0m\n\u001b[1;32m      3\u001b[0m \u001b[0;34m\u001b[0m\u001b[0m\n\u001b[1;32m      4\u001b[0m \u001b[0;32mfrom\u001b[0m \u001b[0mflask\u001b[0m \u001b[0;32mimport\u001b[0m \u001b[0mFlask\u001b[0m\u001b[0;34m\u001b[0m\u001b[0m\n\u001b[1;32m      5\u001b[0m \u001b[0;34m\u001b[0m\u001b[0m\n",
      "\u001b[0;31mModuleNotFoundError\u001b[0m: No module named 'app'"
     ]
    }
   ],
   "source": [
    "from app import app\n",
    "from flaskext.mysql import MySQL\n",
    "\n",
    "from flask import Flask\n",
    "\n",
    "app = Flask(__name__)\n",
    "\n",
    "mysql = MySQL()\n",
    " \n",
    "# MySQL configurations\n",
    "app.config['MYSQL_DATABASE_USER'] = 'root'\n",
    "app.config['MYSQL_DATABASE_PASSWORD'] = 'root'\n",
    "app.config['MYSQL_DATABASE_DB'] = 'roytuts'\n",
    "app.config['MYSQL_DATABASE_HOST'] = 'localhost'\n",
    "mysql.init_app(app)\n"
   ]
  },
  {
   "cell_type": "code",
   "execution_count": null,
   "metadata": {
    "collapsed": true
   },
   "outputs": [],
   "source": []
  }
 ],
 "metadata": {
  "kernelspec": {
   "display_name": "Python 3",
   "language": "python",
   "name": "python3"
  },
  "language_info": {
   "codemirror_mode": {
    "name": "ipython",
    "version": 3
   },
   "file_extension": ".py",
   "mimetype": "text/x-python",
   "name": "python",
   "nbconvert_exporter": "python",
   "pygments_lexer": "ipython3",
   "version": "3.6.3"
  }
 },
 "nbformat": 4,
 "nbformat_minor": 2
}
