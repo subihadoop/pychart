{
 "cells": [
  {
   "cell_type": "code",
   "execution_count": null,
   "metadata": {
    "collapsed": true
   },
   "outputs": [],
   "source": [
    "from geopy.geocoders import Nominatim"
   ]
  },
  {
   "cell_type": "code",
   "execution_count": null,
   "metadata": {
    "collapsed": true
   },
   "outputs": [],
   "source": [
    "geolocator = Nominatim(user_agent=\"data_lake_lab\")"
   ]
  },
  {
   "cell_type": "code",
   "execution_count": null,
   "metadata": {},
   "outputs": [],
   "source": [
    "location = geolocator.geocode('Andorra','Antigua')\n",
    "print((location.address ,location.latitude, location.longitude))"
   ]
  },
  {
   "cell_type": "code",
   "execution_count": null,
   "metadata": {},
   "outputs": [],
   "source": [
    "from geopy.geocoders import Nominatim\n",
    "\n",
    "\n",
    "import pandas as pd\n",
    "geolocator = Nominatim(user_agent=\"data_lake_lab\")\n",
    "df = pd.read_csv('/home/subir/anaconda3/notebook/corona/all_country.csv')\n",
    "df=df.head()\n",
    "print()\n",
    "list_of_addresses = [df]\n",
    "for address in list_of_addresses:\n",
    "    try:\n",
    "        search = geolocator.geocode(address)\n",
    "    except ValueError:\n",
    "        continue\n",
    "    first_result = search[0]\n",
    "    output =  [flocation.latitude, location.longitude]\n",
    "    print (output)"
   ]
  },
  {
   "cell_type": "code",
   "execution_count": 1,
   "metadata": {},
   "outputs": [
    {
     "name": "stderr",
     "output_type": "stream",
     "text": [
      "RateLimiter caught an error, retrying (0/2 tries). Called with (*('london',), **{}).\n",
      "Traceback (most recent call last):\n",
      "  File \"/home/subir/anaconda3/lib/python3.6/urllib/request.py\", line 1318, in do_open\n",
      "    encode_chunked=req.has_header('Transfer-encoding'))\n",
      "  File \"/home/subir/anaconda3/lib/python3.6/http/client.py\", line 1239, in request\n",
      "    self._send_request(method, url, body, headers, encode_chunked)\n",
      "  File \"/home/subir/anaconda3/lib/python3.6/http/client.py\", line 1285, in _send_request\n",
      "    self.endheaders(body, encode_chunked=encode_chunked)\n",
      "  File \"/home/subir/anaconda3/lib/python3.6/http/client.py\", line 1234, in endheaders\n",
      "    self._send_output(message_body, encode_chunked=encode_chunked)\n",
      "  File \"/home/subir/anaconda3/lib/python3.6/http/client.py\", line 1026, in _send_output\n",
      "    self.send(msg)\n",
      "  File \"/home/subir/anaconda3/lib/python3.6/http/client.py\", line 964, in send\n",
      "    self.connect()\n",
      "  File \"/home/subir/anaconda3/lib/python3.6/http/client.py\", line 1392, in connect\n",
      "    super().connect()\n",
      "  File \"/home/subir/anaconda3/lib/python3.6/http/client.py\", line 936, in connect\n",
      "    (self.host,self.port), self.timeout, self.source_address)\n",
      "  File \"/home/subir/anaconda3/lib/python3.6/socket.py\", line 724, in create_connection\n",
      "    raise err\n",
      "  File \"/home/subir/anaconda3/lib/python3.6/socket.py\", line 713, in create_connection\n",
      "    sock.connect(sa)\n",
      "ConnectionRefusedError: [Errno 111] Connection refused\n",
      "\n",
      "During handling of the above exception, another exception occurred:\n",
      "\n",
      "Traceback (most recent call last):\n",
      "  File \"/home/subir/anaconda3/lib/python3.6/site-packages/geopy/geocoders/base.py\", line 355, in _call_geocoder\n",
      "    page = requester(req, timeout=timeout, **kwargs)\n",
      "  File \"/home/subir/anaconda3/lib/python3.6/urllib/request.py\", line 526, in open\n",
      "    response = self._open(req, data)\n",
      "  File \"/home/subir/anaconda3/lib/python3.6/urllib/request.py\", line 544, in _open\n",
      "    '_open', req)\n",
      "  File \"/home/subir/anaconda3/lib/python3.6/urllib/request.py\", line 504, in _call_chain\n",
      "    result = func(*args)\n",
      "  File \"/home/subir/anaconda3/lib/python3.6/urllib/request.py\", line 1361, in https_open\n",
      "    context=self._context, check_hostname=self._check_hostname)\n",
      "  File \"/home/subir/anaconda3/lib/python3.6/urllib/request.py\", line 1320, in do_open\n",
      "    raise URLError(err)\n",
      "urllib.error.URLError: <urlopen error [Errno 111] Connection refused>\n",
      "\n",
      "During handling of the above exception, another exception occurred:\n",
      "\n",
      "Traceback (most recent call last):\n",
      "  File \"/home/subir/anaconda3/lib/python3.6/site-packages/geopy/extra/rate_limiter.py\", line 126, in __call__\n",
      "    return self.func(*args, **kwargs)\n",
      "  File \"/home/subir/anaconda3/lib/python3.6/site-packages/geopy/geocoders/osm.py\", line 406, in geocode\n",
      "    self._call_geocoder(url, timeout=timeout), exactly_one\n",
      "  File \"/home/subir/anaconda3/lib/python3.6/site-packages/geopy/geocoders/base.py\", line 386, in _call_geocoder\n",
      "    raise GeocoderServiceError(message)\n",
      "geopy.exc.GeocoderServiceError: [Errno 111] Connection refused\n"
     ]
    }
   ],
   "source": [
    "import pandas as pd\n",
    "df = pd.DataFrame({'name': ['paris', 'berlin', 'london']})\n",
    "\n",
    "from geopy.geocoders import Nominatim\n",
    "geolocator = Nominatim(user_agent=\"specify_your_app_name_here\")\n",
    "\n",
    "from geopy.extra.rate_limiter import RateLimiter\n",
    "geocode = RateLimiter(geolocator.geocode, min_delay_seconds=1)\n",
    "df['location'] = df['name'].apply(geocode)\n",
    "\n",
    "df['point'] = df['location'].apply(lambda loc: tuple(loc.point) if loc else None)"
   ]
  },
  {
   "cell_type": "code",
   "execution_count": 10,
   "metadata": {},
   "outputs": [],
   "source": [
    "import csv\n",
    "##from time import sleep\n",
    "\n",
    "from geopy.geocoders import Nominatim\n",
    "with open('/home/subir/anaconda3/notebook/corona/all_country.csv', 'r') as fp:\n",
    "    with open('/home/subir/anaconda3/notebook/corona/all_country.csv', 'w',newline='') as op:\n",
    "        a = csv.writer(op)\n",
    "        a.writerow([\"Town\",\"District\",\"State\",\"Country\",\"Address\",\"Latitude\",\"Longitude\"])\n",
    "        for line in fp.readlines():\n",
    "            geolocator = Nominatim()\n",
    "            Country = line.split(',')[0]\n",
    "            address_new = line.split(',')[4]\n",
    "            location = geolocator.geocode(address_new)\n",
    "            lat=location.latitude\n",
    "            lon=location.longitude\n",
    "                ##time.sleep(3)\n",
    "            a.writerow([town_new,district_new,state_new,country_new,address_new,lat,lon])"
   ]
  },
  {
   "cell_type": "code",
   "execution_count": null,
   "metadata": {
    "collapsed": true
   },
   "outputs": [],
   "source": [
    " with open('/home/subir/anaconda3/notebook/corona/all_country.csv', 'w',newline='') as op:\n",
    "        a = csv.writer(op)\n",
    "        a.writerow([\"Town\",\"District\",\"State\",\"Country\",\"Address\",\"Latitude\",\"Longitude\"])\n",
    "        for line in fp.readlines():\n",
    "            geolocator = Nominatim()\n",
    "            town_new = line.split(',')[0]\n",
    "            district_new = line.split(',')[1]\n",
    "            state_new = line.split(',')[2]\n",
    "            country_new = line.split(',')[3]\n",
    "            address_new = line.split(',')[4]\n",
    "            location = geolocator.geocode(address_new)\n",
    "            ''' This will check if your given address has any latitude or longitude and if true then lat and lon will be assigned otherwise, both lat and lon will be 0. '''\n",
    "            if location:\n",
    "                lat=location.latitude\n",
    "                lon=location.longitude\n",
    "                ##time.sleep(3)\n",
    "            else:\n",
    "                lat = 0\n",
    "                lon = 0"
   ]
  }
 ],
 "metadata": {
  "kernelspec": {
   "display_name": "Python 3",
   "language": "python",
   "name": "python3"
  },
  "language_info": {
   "codemirror_mode": {
    "name": "ipython",
    "version": 3
   },
   "file_extension": ".py",
   "mimetype": "text/x-python",
   "name": "python",
   "nbconvert_exporter": "python",
   "pygments_lexer": "ipython3",
   "version": "3.6.3"
  }
 },
 "nbformat": 4,
 "nbformat_minor": 2
}
